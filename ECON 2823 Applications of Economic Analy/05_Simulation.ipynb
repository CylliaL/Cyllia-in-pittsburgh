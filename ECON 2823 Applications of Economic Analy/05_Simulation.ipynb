{
 "cells": [
  {
   "cell_type": "code",
   "execution_count": null,
   "metadata": {
    "slideshow": {
     "slide_type": "notes"
    }
   },
   "outputs": [],
   "source": [
    "# Define colors\n",
    "Pitt.Blue<-\"#003594\"\n",
    "Pitt.Gold<-\"#FFB81C\"\n",
    "Pitt.DGray <- \"#75787B\"\n",
    "Pitt.Gray <- \"#97999B\"\n",
    "Pitt.LGray <- \"#C8C9C7\"\n",
    "# ggplot preferences\n",
    "library(\"ggplot2\")\n",
    "library(\"repr\")\n",
    "options(repr.plot.width=10, repr.plot.height=10/1.68)\n",
    "pitt.theme<-theme( panel.background = element_rect(fill = \"white\",linewidth = 0.5, linetype = \"solid\"),\n",
    "  panel.grid.major = element_line(linewidth = 0.5, linetype = 'solid', colour =Pitt.Gray), \n",
    "  panel.grid.minor = element_line(linewidth = 0.25, linetype = 'solid', colour = \"white\")\n",
    "  )\n",
    "base<- ggplot() +aes()+ pitt.theme\n"
   ]
  },
  {
   "cell_type": "markdown",
   "metadata": {
    "slideshow": {
     "slide_type": "slide"
    }
   },
   "source": [
    "## Simulation as a Tool\n",
    "Similar to our numerical approach to solving equations and optimizing problems, we might also struggle to deal with the analytical complexities of transforming our results\n",
    "\n",
    "* While we know how to get various features from linear OLS models, these are normally inputs to larger problems\n",
    "* Sometimes the linkages in this problems can be non-obvious."
   ]
  },
  {
   "cell_type": "markdown",
   "metadata": {
    "slideshow": {
     "slide_type": "subslide"
    }
   },
   "source": [
    "Even where we **can** probably calculate something if we thought about it long enough, the time it takes to do this could have been dedicated to running a quick simulation and getting a ballpark on the number."
   ]
  },
  {
   "cell_type": "markdown",
   "metadata": {
    "slideshow": {
     "slide_type": "subslide"
    }
   },
   "source": [
    "### Law of Large Numbers\n",
    "The fundametal idea here is that we make use of the law of large numbers.\n",
    "\n",
    "That is, when we think of an iid sample  $(X_1,X_2,\\ldots,X_n)$, where each has mean $\\mu_X$ and variance $\\sigma^2_X$, the LLN tells us that for any positive difference $\\epsilon$ as $n\\rightarrow\\infty$ we have:\n",
    "$$\\Pr\\left\\{\\left| \\overline X_n-\\mu_X \\right|>\\epsilon \\right\\} \\rightarrow 0 $$\n",
    "\n"
   ]
  },
  {
   "cell_type": "markdown",
   "metadata": {
    "slideshow": {
     "slide_type": "subslide"
    }
   },
   "source": [
    "So if we explicitly set out to construct the random sample $(X_1,X_2,\\ldots,X_n)$ to be independent, and where each of the $X_i$ draws are taken from the right distribution, then we can look at the sample average as an approximation for the true expectation.\n",
    "\n",
    "The LLN tells us that so long as we draw a large enough sample, we should get an outcome that is close to the truth"
   ]
  },
  {
   "cell_type": "markdown",
   "metadata": {
    "slideshow": {
     "slide_type": "subslide"
    }
   },
   "source": [
    "### Galton Board\n",
    "Here I can show you a little table-top toy that illustrates the concept."
   ]
  },
  {
   "cell_type": "markdown",
   "metadata": {
    "slideshow": {
     "slide_type": "subslide"
    }
   },
   "source": [
    "### Simulation as a brute-force calculator\n",
    "So if there's a value $\\mu$ that we'd like to get an approximation for, if we can constuct a random variable $X$ that has the property that $\\mathbb{E}X=\\mu$ then one option for assessing $\\mu$ is simply to simulate it!"
   ]
  },
  {
   "cell_type": "markdown",
   "metadata": {
    "slideshow": {
     "slide_type": "slide"
    }
   },
   "source": [
    "## Example: Calculating a fixed value\n",
    "A simple geometric problem is trying to calculate the value of $\\pi$, as a geometric constant that appears in a lot of formluae!\n",
    "\n",
    "If you're super clever, there are some really pretty math ideas to derive $\\pi$. \n",
    "\n",
    "For instance, consider the infinite series:\n",
    "$$\\pi =3+ \\frac{4}{2\\times 3\\times 4}-\\frac{4}{4\\times 5\\times 6}+\\frac{4}{6\\times 7\\times 8}$$\n"
   ]
  },
  {
   "cell_type": "code",
   "execution_count": null,
   "metadata": {
    "slideshow": {
     "slide_type": "fragment"
    }
   },
   "outputs": [],
   "source": [
    "nilakanthaPi<- function(n) {\n",
    "    x=3 #initialize\n",
    "    for (k in  1:n ) x=x+(4*(-1)**(k+1))/((1+2*k)**3-(1+2*k)) #loop n times\n",
    "    return(x) # return value\n",
    "} "
   ]
  },
  {
   "cell_type": "code",
   "execution_count": null,
   "metadata": {
    "slideshow": {
     "slide_type": "subslide"
    }
   },
   "outputs": [],
   "source": [
    "nilamkanthatseq<- data.frame(\"n\"=c(3:200))\n",
    "# sapply just applies the list/vector to the function\n",
    "nilamkanthatseq[\"pi\"]<-sapply(nilamkanthatseq$n,nilakanthaPi)\n",
    "nilamkanthatseq[\"error\"]<-abs(pi-nilamkanthatseq[\"pi\"])\n",
    "nilamkanthatseq[\"log.error\"]<-log( abs(pi-nilamkanthatseq[\"pi\"] )  )"
   ]
  },
  {
   "cell_type": "code",
   "execution_count": null,
   "metadata": {
    "slideshow": {
     "slide_type": "subslide"
    }
   },
   "outputs": [],
   "source": [
    "ggplot(data=nilamkanthatseq) +aes(x=n,y=error)+ pitt.theme+geom_point(color=Pitt.Blue) + scale_y_continuous(trans='log10')"
   ]
  },
  {
   "cell_type": "code",
   "execution_count": null,
   "metadata": {
    "slideshow": {
     "slide_type": "subslide"
    }
   },
   "outputs": [],
   "source": [
    "# It's about machine error at 50,000 draws\n",
    "nilakanthaPi(50000)\n",
    "pi"
   ]
  },
  {
   "cell_type": "markdown",
   "metadata": {
    "slideshow": {
     "slide_type": "slide"
    }
   },
   "source": [
    "### But suppose we didn't know this math sequence\n",
    "If we have a good sense for what we need this particular number for, it's not too hard to begin using the Law of Large Numbers to brute force measure it via simulation. \n",
    "\n",
    "The question then is how to construct a random variable $X_n$ with the property that $\\mathbb{E}X=\\pi$."
   ]
  },
  {
   "cell_type": "markdown",
   "metadata": {
    "slideshow": {
     "slide_type": "subslide"
    }
   },
   "source": [
    "But here we will deploy our sense for what $\\pi$ is measuring, where we will think of the area of a circle. In that way, we will use the formula for a circle and an area of known volume to construct the random variable $X$\n",
    "\n",
    "* In particular we will first draw a pair of initial random variables $(U_1,U_2)$, each drawn from the interval $[-1,1]$\n",
    "* We'll then assess whether this pair live inside a circle of radius 1 centered at zero. $$\\text{InCircle}(u_1,u_2):=u_1^2+u_2^2\\leq 1$$"
   ]
  },
  {
   "cell_type": "markdown",
   "metadata": {
    "slideshow": {
     "slide_type": "subslide"
    }
   },
   "source": [
    "<table>\n",
    "    <tr><td>\n",
    "    <h3>Drawing from:</h3> </td><td><h3>Returns 1 if:</h3></td></tr>\n",
    "    <tr><td>\n",
    "    <img src=https://alistairjwilson.github.io/MQE_AW/i/PiCalc1.svg  alt=\"Original draw\"></td><td>\n",
    "    <img src=https://alistairjwilson.github.io/MQE_AW/i/PiCalc2.svg alt=\"Event definition\"></td></tr>\n",
    "</table>"
   ]
  },
  {
   "cell_type": "markdown",
   "metadata": {
    "slideshow": {
     "slide_type": "slide"
    }
   },
   "source": [
    "**Question:** What is the chance that a random draw from the blue region $(U_1,U_2)$, lies in the yellow region?"
   ]
  },
  {
   "cell_type": "markdown",
   "metadata": {
    "slideshow": {
     "slide_type": "subslide"
    }
   },
   "source": [
    "Our random variable $X$ will therefore be a function of the pair of  uniform random variables:\n",
    "$$ X=\\begin{cases} 4 & \\text{if }U_1^2+U_2^2\\leq1\\\\ 0 & \\text{otherwise}\\end{cases} $$\n",
    "where we know that $$\\mathbb{E}X=\\Pr\\left\\{\\left(U_1,U_2\\right)\\text{ in circle}\\right\\}\\cdot 4 + \\Pr\\left\\{(U_1,U_2)\\text{ not in circle}\\right\\}\\cdot 0\\\\ =\\frac{\\pi 1^2}{2\\times2}\\cdot 4=\\pi$$"
   ]
  },
  {
   "cell_type": "markdown",
   "metadata": {
    "slideshow": {
     "slide_type": "subslide"
    }
   },
   "source": [
    "So let's draw some values"
   ]
  },
  {
   "cell_type": "code",
   "execution_count": null,
   "metadata": {},
   "outputs": [],
   "source": [
    "#runif provides us with random uniform draws\n",
    "u1<- runif(n=5000,min=-1,max=1) \n",
    "u2<- runif(n=5000,min=-1,max=1)\n",
    "simData.pi<-data.frame(\"u1\"=u1,\"u2\"=u2)\n",
    "# Enter the binary outcome on whether they lie inside the circle\n",
    "simData.pi[\"InCircle\"]<-ifelse(  (simData.pi$u1**2+simData.pi$u2**2)<=1,4,0)\n",
    "# take the average across this binary event!\n",
    "head(simData.pi)\n",
    "mean(simData.pi$InCircle)"
   ]
  },
  {
   "cell_type": "markdown",
   "metadata": {
    "slideshow": {
     "slide_type": "subslide"
    }
   },
   "source": [
    "Plotting it:"
   ]
  },
  {
   "cell_type": "code",
   "execution_count": null,
   "metadata": {},
   "outputs": [],
   "source": [
    "# Change the plot output to Jupyter to have constant aspect ratio\n",
    "options(repr.plot.width=10, repr.plot.height=10)\n",
    "ggplot() + pitt.theme+geom_point( data=subset(simData.pi,InCircle>0),aes(x=u1,y=u2),color=Pitt.Gold)+\n",
    "geom_point( data=subset(simData.pi,InCircle==0),aes(x=u1,y=u2),color=Pitt.Blue)\n",
    "# Set the output back to previous\n",
    "options(repr.plot.width=10, repr.plot.height=10/1.68)"
   ]
  },
  {
   "cell_type": "markdown",
   "metadata": {
    "slideshow": {
     "slide_type": "subslide"
    }
   },
   "source": [
    "Doing the same thing but where we only store the mean value via a function."
   ]
  },
  {
   "cell_type": "code",
   "execution_count": null,
   "metadata": {},
   "outputs": [],
   "source": [
    "pi.sim<- function(n) mean( ifelse( (runif(n)**2 + runif(n)**2)<= 1,4,0) )\n",
    "pi.sim.df<-data.frame(order=3:8) \n",
    "pi.sim.df[\"n\"]<-10**pi.sim.df[\"order\"]\n",
    "#sapply is used to apply the list to the pi.sim function in turn,\n",
    "# where the runif() term doesn't like being applied to a list!\n",
    "pi.sim.df[\"pi\"]<-sapply(pi.sim.df$n,pi.sim)"
   ]
  },
  {
   "cell_type": "code",
   "execution_count": null,
   "metadata": {
    "slideshow": {
     "slide_type": "subslide"
    }
   },
   "outputs": [],
   "source": [
    "pi.sim.df[\"error\"]<-abs(pi-pi.sim.df[\"pi\"])\n",
    "ggplot(data=pi.sim.df) +aes(x=n,y=error)+ pitt.theme+\n",
    "geom_point(color=Pitt.Blue,size=4) + \n",
    "scale_x_continuous(trans='log10')+ scale_y_continuous(trans='log10')\n",
    "pi.sim.df"
   ]
  },
  {
   "cell_type": "markdown",
   "metadata": {
    "slideshow": {
     "slide_type": "subslide"
    }
   },
   "source": [
    "### So...\n",
    "* It's obviously not as accurate as the more complex way of calculating it, but as an approximation, this is pretty good! \n",
    "* The benefit here was that we didn't need to be a first-order mathematician to construct a sequence that quickly converged, I just had to know what the constant I was after was measuring.\n",
    "* That said, if you did know the mathematical formula, you'd be much quicker using it."
   ]
  },
  {
   "cell_type": "markdown",
   "metadata": {
    "slideshow": {
     "slide_type": "slide"
    }
   },
   "source": [
    "## Figuring out complex variables\n",
    "\n",
    "There are many events we might want to have a good prediction about the likely chances, but where we know that it is a an aggregate of lots of other smaller events. Analytically, the permutations involved can often be overwhelming. In contrast, a particular realization may be relatively easy to simulate.\n",
    "\n",
    "While it can therefore be *possible* to calculate something, you're likely better just simulating each of the components that we do have a better model of. Here we'll look at an example that was of recent prominence!"
   ]
  },
  {
   "cell_type": "markdown",
   "metadata": {
    "slideshow": {
     "slide_type": "subslide"
    }
   },
   "source": [
    "## Electoral College\n",
    "Take the recent US presidential election. The winner is determined by the vote totals in each of the separate states, and where each state has a specific number of electoral colleges votes.\n",
    "\n",
    "The event that we want to forecast is the likelihood that one candidate wins. Given this structure, and some way of simulating each of the component states, we can use simulation methods to understand the final result."
   ]
  },
  {
   "cell_type": "markdown",
   "metadata": {
    "slideshow": {
     "slide_type": "subslide"
    }
   },
   "source": [
    "### Component parts\n",
    "For this particular model then we need a  core (outer loop) procedure that  runs the model many times, storing the relevant variables so we can calculate things afterwards.\n",
    "\n",
    "But inside each run of the election we need:\n",
    " * A parameterized random variable that draws an election outcome for each state\n",
    " * A function that takes outcomes for each state and produces a number of electoral college votes\n",
    " * A function that aggregates the electoral college votes into an outcome"
   ]
  },
  {
   "cell_type": "markdown",
   "metadata": {
    "slideshow": {
     "slide_type": "subslide"
    }
   },
   "source": [
    "#### Parameterized model\n",
    "We could be more sophisticated here and think of a model that takes into account:\n",
    "* Demographics\n",
    "* Electoral spending\n",
    "* Historical outcomes\n",
    "* Common shocks (national good/bad news)\n",
    "\n",
    "For now though we'll think about a much simpler model, that models each state independently, and we'll come back to integrate in a commmon shock"
   ]
  },
  {
   "cell_type": "markdown",
   "metadata": {
    "slideshow": {
     "slide_type": "slide"
    }
   },
   "source": [
    "## Setting the parameters\n",
    "Ideally, we would *estimate* the parameters of the model from data, which would also give us a sense for how far off we are. However, we haven't gotten to that point in the class (soon though!).\n",
    "\n",
    "To roughly calibrate the parameters I'm going to instead use probability data from *The Economist* magazine's model (which is publicly available [here](https://github.com/TheEconomist/us-potus-model)).\n",
    "\n",
    "Their model is more complicated, where it takes as inputs many other features, and allows for many other moving parts/nuance. However, we're going to start simple!"
   ]
  },
  {
   "cell_type": "code",
   "execution_count": null,
   "metadata": {
    "scrolled": true,
    "slideshow": {
     "slide_type": "subslide"
    }
   },
   "outputs": [],
   "source": [
    "# Enter the data from the economist:\n",
    "economist.Data<-read.csv('economist/state_averages_and_predictions_topline.csv')\n",
    "# Enter the electoral votes for each state (I copied these from wikipedia!)\n",
    "ev.Data<-read.csv('./ev.csv') \n",
    "# show the data frame heads\n",
    "head(economist.Data ) \n",
    "head(ev.Data) \n",
    "elecVotes"
   ]
  },
  {
   "cell_type": "code",
   "execution_count": null,
   "metadata": {
    "slideshow": {
     "slide_type": "notes"
    }
   },
   "outputs": [],
   "source": [
    "elecVotes<-ev.Data[\"ev\"]\n",
    "rownames(elecVotes) <- ev.Data$state"
   ]
  },
  {
   "cell_type": "markdown",
   "metadata": {
    "slideshow": {
     "slide_type": "subslide"
    }
   },
   "source": [
    "Checking the data, it's obvious that these are Democratic Candidate win probs, rather than Republican Candidate"
   ]
  },
  {
   "cell_type": "code",
   "execution_count": null,
   "metadata": {},
   "outputs": [],
   "source": [
    "stateProb<-economist.Data['projected_win_prob']\n",
    "# set the row names to the states\n",
    "rownames(stateProb) <- economist.Data$state\n",
    "# rename the column\n",
    "names(stateProb)<-\"dem.Prob\"\n",
    "# Two-party model, so rep.Prob is\n",
    "stateProb[\"rep.Prob\"]<-1-stateProb[\"dem.Prob\"]\n",
    "head(stateProb) \n",
    "elecVotes <- ev.Data['ev']\n",
    "rownames(elecVotes) <- ev.Data$state"
   ]
  },
  {
   "cell_type": "code",
   "execution_count": null,
   "metadata": {},
   "outputs": [],
   "source": [
    "stateProb[\"ev\"]<-1\n",
    "for ( state in economist.Data$state) { \n",
    "    stateProb[state,\"ev\"]<-elecVotes[state,\"ev\"]\n",
    "}"
   ]
  },
  {
   "cell_type": "markdown",
   "metadata": {
    "slideshow": {
     "slide_type": "subslide"
    }
   },
   "source": [
    "So we can now access all of our parameters as follows:"
   ]
  },
  {
   "cell_type": "code",
   "execution_count": null,
   "metadata": {},
   "outputs": [],
   "source": [
    "# Dem Probability in Alaska\n",
    "stateProb[\"AK\",\"dem.Prob\"]\n",
    "# Rep Probability in Arizona\n",
    "stateProb[\"AZ\",\"rep.Prob\"]\n",
    "# Electoral votes from California\n",
    "stateProb[\"NY\",\"ev\"]"
   ]
  },
  {
   "cell_type": "markdown",
   "metadata": {},
   "source": [
    "Also, will be helpful to define the list of states"
   ]
  },
  {
   "cell_type": "code",
   "execution_count": null,
   "metadata": {},
   "outputs": [],
   "source": [
    "stateList<-rownames(stateProb)\n",
    "stateList"
   ]
  },
  {
   "cell_type": "markdown",
   "metadata": {
    "slideshow": {
     "slide_type": "slide"
    }
   },
   "source": [
    "### Running the simulation\n",
    "Set the simulation size:"
   ]
  },
  {
   "cell_type": "code",
   "execution_count": null,
   "metadata": {},
   "outputs": [],
   "source": [
    "n.sims<-10000"
   ]
  },
  {
   "cell_type": "markdown",
   "metadata": {},
   "source": [
    "Now we need to write a function that draws an outcome for each state as a single repetition of the sample"
   ]
  },
  {
   "cell_type": "markdown",
   "metadata": {
    "slideshow": {
     "slide_type": "subslide"
    }
   },
   "source": [
    "Let's carefully go through what this function does"
   ]
  },
  {
   "cell_type": "code",
   "execution_count": null,
   "metadata": {
    "slideshow": {
     "slide_type": "-"
    }
   },
   "outputs": [],
   "source": [
    "stateDraw<- function(probList,evList){\n",
    "    # This is 51 uniform random numbers in[0,1]\n",
    "    # which we will use to create the realization\n",
    "    rnd<-runif(51,min=0,max=1)\n",
    "    # initialize the out vector for ease of putting it together\n",
    "    out=c(1:53)\n",
    "    # Determine outcome for each of the 51\n",
    "    for (ii in 1:51) {\n",
    "        # if the model rnd number is less than the model prob then output the electoral votes, \n",
    "        # otherwise zero\n",
    "        out[ii]<- ifelse(  rnd[ii] < probList[ii]  , evList[ii] ,  0 )\n",
    "    }\n",
    "    # sum the electoral vites\n",
    "    demev<-sum(out[1:51])\n",
    "    # name the output vector\n",
    "    names(out)<-c(stateList,\"dem.Total\",\"rep.Total\")\n",
    "    # assign vote totals to the last two locations\n",
    "    out[\"dem.Total\"]<-demev\n",
    "    out[\"rep.Total\"]<- (538- demev)\n",
    "    out\n",
    "}"
   ]
  },
  {
   "cell_type": "markdown",
   "metadata": {
    "slideshow": {
     "slide_type": "subslide"
    }
   },
   "source": [
    "So let's run the function once and check it's output.\n",
    "\n",
    "**Question:** What are we expecting it to look like?"
   ]
  },
  {
   "cell_type": "code",
   "execution_count": null,
   "metadata": {},
   "outputs": [],
   "source": [
    "stateDraw( stateProb$dem.Prob ,stateProb$ev ) "
   ]
  },
  {
   "cell_type": "markdown",
   "metadata": {
    "slideshow": {
     "slide_type": "subslide"
    }
   },
   "source": [
    "### Repeating\n",
    "So if we're happy with it, we can move on to simulating it **lots** of times."
   ]
  },
  {
   "cell_type": "code",
   "execution_count": null,
   "metadata": {},
   "outputs": [],
   "source": [
    "n.sims <- 100000\n",
    "outputMatrix <- matrix(1,nrow=n.sims, ncol=53)\n",
    "for (rep in 1:n.sims) {\n",
    "    outputMatrix[rep,] <- stateDraw(stateProb$dem.Prob,stateProb$ev)\n",
    "}\n",
    "outSim.Economist<-data.frame(outputMatrix)\n",
    "names(outSim.Economist) <- c(stateList,\"dem.Total\",\"rep.Total\")\n",
    "head(outSim.Economist)\n",
    "# we'll later define a function to do this more generally"
   ]
  },
  {
   "cell_type": "markdown",
   "metadata": {
    "slideshow": {
     "slide_type": "subslide"
    }
   },
   "source": [
    "### Outcomes\n",
    "So now that we have the simulation run, let's calculate the resulting outcome. There are **538** total electoral votes, so we'll check the fraction of times the Democrats get enough votes to win outright"
   ]
  },
  {
   "cell_type": "code",
   "execution_count": null,
   "metadata": {},
   "outputs": [],
   "source": [
    "mean(ifelse(outSim.Economist$dem.Total>538/2,1,0))"
   ]
  },
  {
   "cell_type": "markdown",
   "metadata": {},
   "source": [
    "and the complementary probability for the Republicans to win or draw:"
   ]
  },
  {
   "cell_type": "code",
   "execution_count": null,
   "metadata": {},
   "outputs": [],
   "source": [
    "mean(ifelse(outSim.Economist$dem.Total<538/2,1,0))"
   ]
  },
  {
   "cell_type": "markdown",
   "metadata": {
    "slideshow": {
     "slide_type": "slide"
    }
   },
   "source": [
    "This seems a little high. One  problem here is that we're not accounting for the correlations.\n",
    "\n",
    "The economist data actually includes their estimated correlation matrix:"
   ]
  },
  {
   "cell_type": "code",
   "execution_count": null,
   "metadata": {},
   "outputs": [],
   "source": [
    "inMatrix<-read.csv('./economist/state_correlation_matrix.csv')\n",
    "stateCorrMatrix<-as.matrix(inMatrix[1:51,2:52])\n",
    "rownames(stateCorrMatrix)<-inMatrix$state\n",
    "stateCorrMatrix[c(\"PA\",\"AZ\",\"GA\",\"MI\",\"FL\"),c(\"PA\",\"AZ\",\"GA\",\"MI\",\"FL\")]"
   ]
  },
  {
   "cell_type": "markdown",
   "metadata": {},
   "source": [
    "**Question:** How can we generate the analog to this from our simulation?"
   ]
  },
  {
   "cell_type": "code",
   "execution_count": null,
   "metadata": {},
   "outputs": [],
   "source": [
    "head(outSim.Economist) # c(\"PA\",\"AZ\",\"GA\",\"MI\",\"FL\")\n",
    "#code_to_calculate_correlations\n",
    "cor(outSim.Economist[,c(\"PA\",\"AZ\",\"GA\",\"MI\",\"FL\")])"
   ]
  },
  {
   "cell_type": "markdown",
   "metadata": {
    "slideshow": {
     "slide_type": "slide"
    }
   },
   "source": [
    "### Adding common shocks\n",
    "While we could go back to their primitive model to play with where these correlations come from, we're going just do something quick and dirty to put in *some* correlation via common shocks.\n",
    "\n",
    "I'm going to use a parametric model for generating the state win probabilities:\n",
    "$$ \\Pr(\\text{State }j\\text{ is Dem})=\\frac{\\exp(\\alpha_j+\\epsilon)}{\\exp(\\alpha_j+\\epsilon)+1}$$\n",
    "where $\\epsilon$ is a common $U[-k,k]$ shock and $\\alpha_j$ is a state-level parameter. "
   ]
  },
  {
   "cell_type": "markdown",
   "metadata": {
    "slideshow": {
     "slide_type": "subslide"
    }
   },
   "source": [
    "$$ \\Pr(\\text{State }j\\text{ is Dem})=\\frac{\\exp(\\alpha_j+\\epsilon)}{\\exp(\\alpha_j+\\epsilon)+1}$$\n",
    "**Question:** What does the shock do to the probability?\n",
    "\n",
    "**Question:** Why use the function $\\tfrac{\\exp(x)}{\\exp(x)+1}$?"
   ]
  },
  {
   "cell_type": "markdown",
   "metadata": {
    "slideshow": {
     "slide_type": "subslide"
    }
   },
   "source": [
    "### Illustrating the function"
   ]
  },
  {
   "cell_type": "code",
   "execution_count": null,
   "metadata": {},
   "outputs": [],
   "source": [
    "expProb<-function(x) exp(x)/(exp(x)+1)\n",
    "base+geom_function(fun = expProb, colour=Pitt.Blue, linewidth=2)+xlim(-10,10)"
   ]
  },
  {
   "cell_type": "markdown",
   "metadata": {
    "slideshow": {
     "slide_type": "fragment"
    }
   },
   "source": [
    "So this is just a way of mapping a real-valued number in $\\mathbb{R}$ into a probability in $[0,1]$, where lower numbers indicate lower probabilities."
   ]
  },
  {
   "cell_type": "markdown",
   "metadata": {
    "slideshow": {
     "slide_type": "subslide"
    }
   },
   "source": [
    "### Where to get the $\\alpha_j$ parameters?\n",
    "In order to calculate the new parameters from the original probabilities, I integrated the formula across a uniform shock in $[-k,k]$ to set the unconditional probability equal to the value from the Economist data $p_j$:  \n",
    "$$\\mathbb{E}P_j=\\int^k_{-k} \\frac{1}{2k} \\frac{\\exp(\\alpha_j+\\epsilon)}{\\exp(\\alpha_j+\\epsilon)+1} d\\epsilon=p_j.$$\n",
    "\n",
    "I then inverted this formula to figure out the how to map the given probability $p_j$ for each state $j$ into a parameter $\\alpha_j$ for the model *(don't worry about this step, this is just so I can use the Economist probability data).*"
   ]
  },
  {
   "cell_type": "markdown",
   "metadata": {
    "slideshow": {
     "slide_type": "subslide"
    }
   },
   "source": [
    "This lead to the below function:"
   ]
  },
  {
   "cell_type": "code",
   "execution_count": null,
   "metadata": {},
   "outputs": [],
   "source": [
    "gen.alpha<- function(p,k) {\n",
    "    if (p <= 0.0001) { # This makes sure we don't output -infinity\n",
    "        return (-10)\n",
    "    }\n",
    "    else if (p>=0.9999) { # This make sures we don't output +infinity\n",
    "        return (10)\n",
    "    } \n",
    "    else { # Standard output for the economist probability!\n",
    "        return (k+ log(( exp(2*p*k)-1))-log((exp(2*k) -exp(2*k*p) )) )\n",
    "    }\n",
    "}"
   ]
  },
  {
   "cell_type": "markdown",
   "metadata": {
    "slideshow": {
     "slide_type": "subslide"
    }
   },
   "source": [
    "In order to check this function works, we'll make use a quick ***simulation*** to check it!"
   ]
  },
  {
   "cell_type": "code",
   "execution_count": null,
   "metadata": {},
   "outputs": [],
   "source": [
    "# calculate the parameters \n",
    "alpha.0.1 <- gen.alpha(0.1,2) \n",
    "alpha.0.8 <- gen.alpha(0.8,4)\n",
    "# draw 10000 shocks from the uniform on [-1,1] \n",
    "shock<-runif(1000000,min=-1,max=1)\n",
    "# Calculate the mean for p=0.1 with a [-2,2] shock\n",
    "alpha.0.1\n",
    "mean(exp(alpha.0.1+shock*2)/(exp(alpha.0.1+shock*2)+1))\n"
   ]
  },
  {
   "cell_type": "markdown",
   "metadata": {
    "slideshow": {
     "slide_type": "subslide"
    }
   },
   "source": [
    "So looks like my formula was at least correct for these values. That is, I've checked that the marginal probabilities for each state match will match the probabilities we read in from *The Economist* model"
   ]
  },
  {
   "cell_type": "markdown",
   "metadata": {
    "slideshow": {
     "slide_type": "fragment"
    }
   },
   "source": [
    "Now let's check that the model's doing what we want in creating some variation in the probabilities across different shocks."
   ]
  },
  {
   "cell_type": "code",
   "execution_count": null,
   "metadata": {
    "slideshow": {
     "slide_type": "subslide"
    }
   },
   "outputs": [],
   "source": [
    "#Interquartile range p=0.1, k=2/2:\n",
    "IQR(exp(alpha.0.1+2*shock)/(exp(alpha.0.1+2*shock)+1))\n",
    "IQR(exp(alpha.0.1+4*shock)/(exp(alpha.0.1+4*shock)+1))\n",
    "#Interquartile range p=0.8, k=2/4:\n",
    "IQR(exp(alpha.0.8+2*shock)/(exp(alpha.0.8+2*shock)+1))\n",
    "IQR(exp(alpha.0.8+4*shock)/(exp(alpha.0.8+4*shock)+1))"
   ]
  },
  {
   "cell_type": "markdown",
   "metadata": {},
   "source": [
    "**Question:** What else could I run here to check that it generates variation in the probabilities? "
   ]
  },
  {
   "cell_type": "code",
   "execution_count": null,
   "metadata": {},
   "outputs": [],
   "source": [
    "quantile(exp(alpha.0.1+4*shock)/(exp(alpha.0.1+4*shock)+1),c(0.1,0.9))"
   ]
  },
  {
   "cell_type": "code",
   "execution_count": null,
   "metadata": {
    "slideshow": {
     "slide_type": "notes"
    }
   },
   "outputs": [],
   "source": [
    "quantile(exp(alpha.0.1+2*shock)/(exp(alpha.0.1+2*shock)+1), probs=c(0.25,0.5,0.75))"
   ]
  },
  {
   "cell_type": "markdown",
   "metadata": {},
   "source": [
    "So as we make $k$ larger, the range in probabilities shifts."
   ]
  },
  {
   "cell_type": "markdown",
   "metadata": {
    "slideshow": {
     "slide_type": "subslide"
    }
   },
   "source": [
    "### Figure out the parameter for each state:\n",
    "Using the formula above, we can calculate the $\\alpha$ parameter for each state:"
   ]
  },
  {
   "cell_type": "code",
   "execution_count": null,
   "metadata": {},
   "outputs": [],
   "source": [
    "# Enter the alpha parameter for each state\n",
    "kVal <- 5\n",
    "stateProb[\"alpha\"]<-0 \n",
    "for (state in stateList) {\n",
    "    stateProb[state,\"alpha\"]=gen.alpha(stateProb[state,\"dem.Prob\"],kVal)\n",
    "    }\n",
    "head(stateProb)\n",
    "stateProb[\"NY\",]"
   ]
  },
  {
   "cell_type": "markdown",
   "metadata": {
    "slideshow": {
     "slide_type": "slide"
    }
   },
   "source": [
    "### Re-simulate the model with common shocks\n",
    "While the shock $\\epsilon$ is mean-zero and random *across* simulations, I'm going to make it common to each state *within* each simulation.\n",
    "\n",
    "In this way if the shock is very negative it will decrease/increase the chances for a Democratic/Republican win in each state.\n",
    "\n",
    "Let's write a function to carry out the simulation:"
   ]
  },
  {
   "cell_type": "code",
   "execution_count": null,
   "metadata": {
    "slideshow": {
     "slide_type": "subslide"
    }
   },
   "outputs": [],
   "source": [
    "stateDrawC<- function( alphaList , evList, kparam) {\n",
    "    eps<-runif(1,min=-kparam,max=kparam) # the common shock draw\n",
    "    rnd<-runif(51,min=0,max=1) # This is 51 uniform random numbers in [0,1] to determine outcome\n",
    "    \n",
    "    out=c(1:54) #initialize the out vector as 53 values\n",
    "    # Determine outcome for each of the 51 electoral regions\n",
    "    for (ii in 1:51) {\n",
    "        # if the model rnd number is less than the model prob (the exp/(exp+1) term) then output the electoral votes, otherwise zero\n",
    "        out[ii]<-ifelse( rnd[ii] < exp( alphaList[ii]+eps) /( exp( alphaList[ii]+eps )+1), evList[ii] ,0)\n",
    "        # Here I adjust for the way that Maine distributes it's electoral votes by just splitting them every time\n",
    "        if (ii==22) out[ii]=2\n",
    "    }\n",
    "    demev<-sum(out[1:51]) # sum of the electoral votes\n",
    "    names(out)<-c(stateList,\"dem.Total\",\"rep.Total\",\"shock\") # name the out vector\n",
    "    out[\"dem.Total\"]<-demev # assign the 52nd entry to the democratic total\n",
    "    out[\"rep.Total\"]<- (538- demev) # assign the 53nd entry to the republican total\n",
    "    out[\"shock\"]<-eps\n",
    "    out # this is the returned output\n",
    "}\n",
    "# Run it once to see the output!\n",
    "stateDrawC(stateProb$alpha,stateProb$ev,kVal)"
   ]
  },
  {
   "cell_type": "markdown",
   "metadata": {
    "slideshow": {
     "slide_type": "subslide"
    }
   },
   "source": [
    "### Run the new simulation:\n",
    "So now we just repeat the simulation again."
   ]
  },
  {
   "cell_type": "markdown",
   "metadata": {},
   "source": [
    "However, because we're spending so much time writing code to add repetitions to a matrix and convert to a data frame, let's write it as a function!"
   ]
  },
  {
   "cell_type": "code",
   "execution_count": null,
   "metadata": {
    "slideshow": {
     "slide_type": "subslide"
    }
   },
   "outputs": [],
   "source": [
    "monte.carlo.sim<-function(fun,fun.arg,nSims=10000){\n",
    "    # this line just runs fun(arguments in fun.arg list) so if fun.arg=(x,y,z) do.call(fun,fun.arg) runs fun(x,y,z)\n",
    "    rep1<- do.call(fun,fun.arg) \n",
    "    # Set the dimensions for the output matrix\n",
    "    nc<-length(rep1)\n",
    "    lbl<-names(rep1)\n",
    "    outputMatrix <- matrix(1,nrow=nSims, ncol=nc)\n",
    "    outputMatrix[1, ]<-rep1 # write the sim to the first line\n",
    "    for (rep in 2:nSims) { # for each of the remaining sims, add them in\n",
    "        outputMatrix[rep, ] <- do.call(fun,fun.arg)\n",
    "    }\n",
    "    df<-data.frame(outputMatrix) # convert it to a data frame\n",
    "    names(df)<-lbl  # get the names from the simulation output lbl\n",
    "    return(df) # return the data frame as the output\n",
    "}"
   ]
  },
  {
   "cell_type": "markdown",
   "metadata": {
    "slideshow": {
     "slide_type": "notes"
    }
   },
   "source": [
    "So we don't have to run this code anymore:\n",
    "```\n",
    "outputMatrix <- matrix(1,nrow=n.sims, ncol=54) # Nsims x 54 matrix of ones\n",
    "for (rep in 1:n.sims) { \n",
    "    outputMatrix[rep,] <- stateDrawC(stateProb$alpha,stateProb$ev,kVal)\n",
    "}\n",
    "outSim.Economist.Corr<-data.frame(outputMatrix) \n",
    "names(outSim.Economist.Corr) <- c(stateList,\"dem.Total\",\"rep.Total\",\"shock\") \n",
    "```"
   ]
  },
  {
   "cell_type": "markdown",
   "metadata": {
    "slideshow": {
     "slide_type": "subslide"
    }
   },
   "source": [
    "Running the sim:"
   ]
  },
  {
   "cell_type": "code",
   "execution_count": null,
   "metadata": {
    "slideshow": {
     "slide_type": "-"
    }
   },
   "outputs": [],
   "source": [
    "outSim.Economist.Corr <- monte.carlo.sim( #calling our simulation function\n",
    "    stateDrawC, # the function to simulate\n",
    "    nSims=10000, # number of times to simulate\n",
    "    fun.arg=list(alphaList=stateProb$alpha,evList=stateProb$ev,kparam=8) #arguments to the function\n",
    ")\n",
    "head(outSim.Economist.Corr)\n",
    "# Average win probability for Dems in the simulation:\n",
    "mean(ifelse(outSim.Economist.Corr$dem.Total>538/2,1,0))"
   ]
  },
  {
   "cell_type": "markdown",
   "metadata": {
    "slideshow": {
     "slide_type": "subslide"
    }
   },
   "source": [
    "So not a huge difference on average, despite really quite large shocks. Let's make sure that the shock is doing what it's meant to.\n",
    "\n",
    "Here I'm going to plot a smoothed version of the conditional mean number of electoral votes for the democrats with the shock:"
   ]
  },
  {
   "cell_type": "code",
   "execution_count": null,
   "metadata": {
    "slideshow": {
     "slide_type": "subslide"
    }
   },
   "outputs": [],
   "source": [
    "ggplot(data=outSim.Economist.Corr) +aes(x=shock,y=dem.Total)+ \n",
    "pitt.theme+geom_smooth(color=Pitt.Blue,size=3,method=\"loess\",formula=\"y~x\")"
   ]
  },
  {
   "cell_type": "markdown",
   "metadata": {
    "slideshow": {
     "slide_type": "subslide"
    }
   },
   "source": [
    "So even with fairly large shocks our model still suggests that it was likely that the Democrats would win the election. The economist model is instead built on other fundamentals within each state, as such it has quite a different correlation structure.\n",
    "\n",
    "Let's examine five key swing states: PA, AZ, GA, MI, FL to look at the correlations"
   ]
  },
  {
   "cell_type": "code",
   "execution_count": null,
   "metadata": {
    "scrolled": true
   },
   "outputs": [],
   "source": [
    "# Original Independent Prob Model \n",
    "round( cor(outSim.Economist[c(\"PA\",\"AZ\",\"GA\",\"MI\",\"FL\")]),3 )\n",
    "# Common Shock Prob Model\n",
    "round( cor(outSim.Economist.Corr[c(\"PA\",\"AZ\",\"GA\",\"MI\",\"FL\")]),3 )\n",
    "# Economist Model\n",
    "stateCorrMatrix[c(\"PA\",\"AZ\",\"GA\",\"MI\",\"FL\"),c(\"PA\",\"AZ\",\"GA\",\"MI\",\"FL\")]"
   ]
  },
  {
   "cell_type": "markdown",
   "metadata": {
    "slideshow": {
     "slide_type": "subslide"
    }
   },
   "source": [
    "Our correlations certainly are not close to *The Economist* model correlations. However, we're fairly close to the model's predictions on the [probability of a Biden win](https://projects.economist.com/us-2020-forecast/president): 97 % if we set $k=3$"
   ]
  },
  {
   "cell_type": "code",
   "execution_count": null,
   "metadata": {
    "slideshow": {
     "slide_type": "subslide"
    }
   },
   "outputs": [],
   "source": [
    "kVal <- 3.31\n",
    "stateProb[\"alpha\"]<-0\n",
    "for (state in stateList) {\n",
    "    stateProb[state,\"alpha\"]=gen.alpha(stateProb[state,\"dem.Prob\"],kVal)\n",
    "    }\n",
    "# initialize the matrix we're going to fill in\n",
    "outSim.Economist.Corr <- monte.carlo.sim( #calling our simulation function\n",
    "    stateDrawC, # the function to simulate\n",
    "    nSims=100000, # number of times to simulate\n",
    "    fun.arg=list(alphaList=stateProb$alpha,evList=stateProb$ev,kparam=kVal) #arguments to the function\n",
    ")\n",
    "# Average win probability for Dems in the simulation:\n",
    "mean(ifelse(outSim.Economist.Corr$dem.Total>538/2,1,0))"
   ]
  },
  {
   "cell_type": "markdown",
   "metadata": {
    "slideshow": {
     "slide_type": "slide"
    }
   },
   "source": [
    "### Let's make the model more competitive\n",
    "I wouldn't be entirely satisfied with the above model, as I think the chances for a Democratic win seem very high, though maybe this is a function of the Economist data we uses as an input.\n",
    "\n",
    "However, to show you how we can use such a model once we have it let's play with the underlying numbers"
   ]
  },
  {
   "cell_type": "markdown",
   "metadata": {
    "slideshow": {
     "slide_type": "subslide"
    }
   },
   "source": [
    "Let's shift the alpha parameters for the model:\n",
    "$$ \\Pr(\\text{State }j\\text{ is Dem})=\\frac{\\exp(\\alpha_j+\\epsilon)}{\\exp(\\alpha_j+\\epsilon)+1}$$"
   ]
  },
  {
   "cell_type": "code",
   "execution_count": null,
   "metadata": {
    "slideshow": {
     "slide_type": "fragment"
    }
   },
   "outputs": [],
   "source": [
    "# Generate a new version of alpha for all the states\n",
    "stateProb[\"alpha.comp\"]<-stateProb[\"alpha\"]-3.5"
   ]
  },
  {
   "cell_type": "markdown",
   "metadata": {},
   "source": [
    "**Question:** What will this shift do?"
   ]
  },
  {
   "cell_type": "markdown",
   "metadata": {
    "slideshow": {
     "slide_type": "subslide"
    }
   },
   "source": [
    "The above simply pushes all of the state parameters to the left (funnily enough, having the opposite effect on outcomes)"
   ]
  },
  {
   "cell_type": "code",
   "execution_count": null,
   "metadata": {},
   "outputs": [],
   "source": [
    "outSim.Comp.Corr<-monte.carlo.sim(\n",
    "    stateDrawC,nSims=10000, \n",
    "    fun.arg=list(alphaList=stateProb$alpha.comp,evList=stateProb$ev,kparam=kVal)  \n",
    ") \n",
    "head(outSim.Comp.Corr)\n",
    "# Average win probability for Dems in the simulation:\n",
    "mean(ifelse(outSim.Comp.Corr$dem.Total>538/2,1,0))\n",
    "print(paste0(\"Probability dem win:\", round(mean(ifelse(outSim.Comp.Corr$dem.Total>538/2,1,0)),3)))"
   ]
  },
  {
   "cell_type": "markdown",
   "metadata": {
    "slideshow": {
     "slide_type": "subslide"
    }
   },
   "source": [
    "So we've set-up more of a toss-up election, by modifying the parameters.\n",
    "\n",
    "Let's look at what the win probabilities are by state in the model:"
   ]
  },
  {
   "cell_type": "code",
   "execution_count": null,
   "metadata": {},
   "outputs": [],
   "source": [
    "ProbVector<-1:51\n",
    "names(ProbVector)<-stateList \n",
    "for (state in stateList) {\n",
    "   ProbVector[state]=round(mean(outSim.Comp.Corr[,state])/stateProb[state,\"ev\"],2)\n",
    "}\n",
    "ProbVector"
   ]
  },
  {
   "cell_type": "markdown",
   "metadata": {
    "slideshow": {
     "slide_type": "fragment"
    }
   },
   "source": [
    "Seems reasonable enough. Now we have have a competitive parameterization, let's see what happens as we change things..."
   ]
  },
  {
   "cell_type": "markdown",
   "metadata": {
    "slideshow": {
     "slide_type": "slide"
    }
   },
   "source": [
    "### The counter-factual\n",
    "Normally, once we have a working model, the point is then to use it to figure out *what might be*.\n",
    "\n",
    "In this case, we're going to try and work out what the effects are for the Republican candidate from Texas becoming a lean-Democratic state."
   ]
  },
  {
   "cell_type": "markdown",
   "metadata": {
    "slideshow": {
     "slide_type": "fragment"
    }
   },
   "source": [
    "So, let's look at the current value of the $\\alpha$ parameter for Texas, as a strongly lean R state. "
   ]
  },
  {
   "cell_type": "code",
   "execution_count": null,
   "metadata": {},
   "outputs": [],
   "source": [
    "stateProb[\"TX\",\"alpha.comp\"]"
   ]
  },
  {
   "cell_type": "markdown",
   "metadata": {
    "slideshow": {
     "slide_type": "subslide"
    }
   },
   "source": [
    "To try and understand the effects within the electoral college from the migration patterns in Texas, we will change Texas to a lean-D state.\n",
    "\n",
    "**Question:** How can we do this?"
   ]
  },
  {
   "cell_type": "code",
   "execution_count": null,
   "metadata": {
    "slideshow": {
     "slide_type": "subslide"
    }
   },
   "outputs": [],
   "source": [
    "# But what happens when we make TX a safe dem seat holding everything else as more competitive\n",
    "stateProb[\"TX\",\"alpha.comp\"]<- 2.5\n",
    "outSim.Comp.Corr<-monte.carlo.sim(stateDrawC,nSims=10000, \n",
    "        fun.arg=list(alphaList=stateProb$alpha.comp,evList=stateProb$ev,kparam=kVal))\n",
    "head(outSim.Comp.Corr)\n",
    "# Average win probability for Dems in the simulation:\n",
    "mean(ifelse(outSim.Comp.Corr$dem.Total>538/2,1,0))\n",
    "print(paste0(\"Probability dem win:\", round(mean(ifelse(outSim.Comp.Corr$dem.Total>538/2,1,0)),2)))"
   ]
  },
  {
   "cell_type": "markdown",
   "metadata": {
    "slideshow": {
     "slide_type": "subslide"
    }
   },
   "source": [
    "So Texas represents only 7 percent of the electoral votes:"
   ]
  },
  {
   "cell_type": "code",
   "execution_count": null,
   "metadata": {},
   "outputs": [],
   "source": [
    "100*stateProb[\"TX\",\"ev\"]/538"
   ]
  },
  {
   "cell_type": "markdown",
   "metadata": {},
   "source": [
    "But the model is telling us that flipping it lean-D causes a shift in the probabilites of 20 percentage points, signaling that the paths to victory within the electoral college becomes much harder without this big state."
   ]
  },
  {
   "cell_type": "markdown",
   "metadata": {},
   "source": [
    "**Question:** How can I check the model probability of a Republicans winning without winning Texas?"
   ]
  },
  {
   "cell_type": "code",
   "execution_count": null,
   "metadata": {},
   "outputs": [],
   "source": [
    "#what_to_enter"
   ]
  },
  {
   "cell_type": "markdown",
   "metadata": {
    "slideshow": {
     "slide_type": "slide"
    }
   },
   "source": [
    "## Simulating an econometric method\n",
    "Another setting where we frequently want to know both expected values, but also distributions, is in trying to understand the properties of econometric models.\n",
    "\n",
    "In particular, while asymptotic results mean that we can use $t$ and $F$ tests for parameters in OLS models, unless the disturbances are normally distributed, these tests are not appropriate for finite samples\n",
    "\n",
    "**But when can we treat the data as if it is \"large\"**"
   ]
  },
  {
   "cell_type": "markdown",
   "metadata": {
    "slideshow": {
     "slide_type": "subslide"
    }
   },
   "source": [
    "Simulations offer us a way to examine finite-sample properties of a procedure... \n",
    "\n",
    "\n",
    "...or for more newer/more-experimental methods, they can help us understand whether the method is well formed under the relevant assumptions"
   ]
  },
  {
   "cell_type": "markdown",
   "metadata": {
    "slideshow": {
     "slide_type": "slide"
    }
   },
   "source": [
    "### Linear Model Example"
   ]
  },
  {
   "cell_type": "code",
   "execution_count": null,
   "metadata": {},
   "outputs": [],
   "source": [
    "simLinearModel<-function(n,beta0=1,beta1=1,sigmaX=1,sigmaU=1){\n",
    "  # Draw the x values \n",
    "  xD=rnorm(n,mean=0,sd=sigmaX)\n",
    "  # Draw the u values from a very Non-Normal distribution\n",
    "  uD=(rbeta(n,shape1=0.5,shape2=0.5,)-1)*sigmaU*sqrt(8)\n",
    "  # Put them both into a dataset (y,x,u) \n",
    "  # where y=b0+b1*x+u\n",
    "  simdata.d<-data.frame(y=beta0+beta1*xD+uD,x=xD,u=uD)\n",
    "  # Estimate the model\n",
    "  simdata.m<-lm(y~x,data=simdata.d)\n",
    "  #Return the model as the output of the function\n",
    "  return(coefficients(summary(simdata.m))[\"x\",c(\"Estimate\",\"Std. Error\")])\n",
    "}"
   ]
  },
  {
   "cell_type": "markdown",
   "metadata": {
    "slideshow": {
     "slide_type": "subslide"
    }
   },
   "source": [
    "### Run the model once to check"
   ]
  },
  {
   "cell_type": "code",
   "execution_count": null,
   "metadata": {},
   "outputs": [],
   "source": [
    "simLinearModel(100)"
   ]
  },
  {
   "cell_type": "markdown",
   "metadata": {
    "slideshow": {
     "slide_type": "subslide"
    }
   },
   "source": [
    "### Simulation with 25 observations per LM"
   ]
  },
  {
   "cell_type": "code",
   "execution_count": null,
   "metadata": {
    "scrolled": true
   },
   "outputs": [],
   "source": [
    "sim.df.25<-monte.carlo.sim (\n",
    "    simLinearModel,\n",
    "    fun.arg=list(n=25),nSims=10000)\n",
    "head(sim.df.25)  "
   ]
  },
  {
   "cell_type": "code",
   "execution_count": null,
   "metadata": {},
   "outputs": [],
   "source": [
    "mean(sim.df.25$Estimate)"
   ]
  },
  {
   "cell_type": "code",
   "execution_count": null,
   "metadata": {},
   "outputs": [],
   "source": [
    "sd(sim.df.25$Estimate)\n",
    "1/sqrt(25-2)"
   ]
  },
  {
   "cell_type": "markdown",
   "metadata": {
    "slideshow": {
     "slide_type": "subslide"
    }
   },
   "source": [
    "### Simulation with 100 observations per LM"
   ]
  },
  {
   "cell_type": "code",
   "execution_count": null,
   "metadata": {},
   "outputs": [],
   "source": [
    "sim.df.100<-monte.carlo.sim(simLinearModel,fun.arg=list(n=100),nSims=10000)\n",
    "head(sim.df.100) "
   ]
  },
  {
   "cell_type": "markdown",
   "metadata": {
    "slideshow": {
     "slide_type": "slide"
    }
   },
   "source": [
    "## Let's look at the distribution of the $\\beta_1$ estimate"
   ]
  },
  {
   "cell_type": "code",
   "execution_count": null,
   "metadata": {},
   "outputs": [],
   "source": [
    "ggplot(sim.df.25, aes(x = Estimate))+\n",
    "geom_histogram(aes(y =..density..),breaks = seq(0.4, 1.6, by = 0.05), \n",
    "                   colour = Pitt.DGray, \n",
    "                   fill = Pitt.Blue,size=1)+\n",
    "geom_function(fun = dnorm, args = list(mean = 1, sd = 1/5),color=Pitt.Gold,linewidth =3)+theme( \n",
    "    panel.background = element_rect(fill = Pitt.LGray, linewidth = 0.5, linetype = \"solid\"),\n",
    "  panel.grid.major = element_line(linewidth=  0.5, linetype = 'solid', colour =Pitt.Gray), \n",
    "  panel.grid.minor = element_line(linewidth= 0.25, linetype = 'solid', colour = Pitt.Gray)\n",
    "  )"
   ]
  },
  {
   "cell_type": "markdown",
   "metadata": {
    "slideshow": {
     "slide_type": "subslide"
    }
   },
   "source": [
    "## t-statistic distribution\n",
    "The true value of the parameter $\\beta_1$ is 1, so we should be able to look at a t-statistic for the null:\n",
    "$$ H_0:\\beta_1=1$$\n",
    "which is given by:\n",
    "$$ \\frac{\\hat{\\beta}-1}{\\text{se}(\\hat{\\beta}_1)} $$"
   ]
  },
  {
   "cell_type": "code",
   "execution_count": null,
   "metadata": {},
   "outputs": [],
   "source": [
    "sim.df.25[\"tStat1\"]<- (sim.df.25[\"Estimate\"]-1 ) /sim.df.25[\"Std. Error\"]"
   ]
  },
  {
   "cell_type": "code",
   "execution_count": null,
   "metadata": {
    "slideshow": {
     "slide_type": "subslide"
    }
   },
   "outputs": [],
   "source": [
    "ggplot(sim.df.25, aes(x = tStat1))+\n",
    "geom_histogram(aes(y =..density..),breaks = seq(-3, 3, by = 0.25), \n",
    "                   colour = Pitt.DGray, \n",
    "                   fill = Pitt.Blue,size=1)+\n",
    "geom_function(fun = dt, args = list(df = 23),color=Pitt.Gold,linewidth = 3)+theme( \n",
    "    panel.background = element_rect(fill = Pitt.LGray, linewidth = 0.5, linetype = \"solid\"),\n",
    "  panel.grid.major = element_line(linewidth = 0.5, linetype = 'solid', colour =Pitt.Gray), \n",
    "  panel.grid.minor = element_line(linewidth = 0.25, linetype = 'solid', colour = Pitt.Gray)\n",
    "  )"
   ]
  },
  {
   "cell_type": "markdown",
   "metadata": {
    "slideshow": {
     "slide_type": "subslide"
    }
   },
   "source": [
    "Let's check the type-I error of the test, as we know that the null here is true, as we used this value to generate the data!\n",
    "\n",
    "The two-sided 95-percent critical value for the t-statistic is given by:"
   ]
  },
  {
   "cell_type": "code",
   "execution_count": null,
   "metadata": {},
   "outputs": [],
   "source": [
    "qt(0.975,df=23)"
   ]
  },
  {
   "cell_type": "markdown",
   "metadata": {
    "slideshow": {
     "slide_type": "subslide"
    }
   },
   "source": [
    "So we can calculate how often we would falsely reject:"
   ]
  },
  {
   "cell_type": "code",
   "execution_count": null,
   "metadata": {},
   "outputs": [],
   "source": [
    "mean(ifelse(abs(sim.df.25[\"tStat1\"])>qt(0.975,df=23),1,0))"
   ]
  },
  {
   "cell_type": "markdown",
   "metadata": {
    "slideshow": {
     "slide_type": "fragment"
    }
   },
   "source": [
    "**Question:** Is this close or far from the true value?"
   ]
  },
  {
   "cell_type": "markdown",
   "metadata": {
    "slideshow": {
     "slide_type": "slide"
    }
   },
   "source": [
    "## Soccer score lines."
   ]
  },
  {
   "cell_type": "markdown",
   "metadata": {},
   "source": [
    "In a homework you will build a simulation model of scorelines for soccer."
   ]
  },
  {
   "cell_type": "markdown",
   "metadata": {},
   "source": [
    "For this we'll use parameters from an estimated model from [fivethirtyeight.com](https://data.fivethirtyeight.com/) but where I'll ask you to do the simulations.\n"
   ]
  },
  {
   "cell_type": "code",
   "execution_count": null,
   "metadata": {
    "slideshow": {
     "slide_type": "fragment"
    }
   },
   "outputs": [],
   "source": [
    "inTeams<-read.csv(\"https://projects.fivethirtyeight.com/soccer-api/club/spi_global_rankings.csv\")\n",
    "#inTeams<-read.csv('./538/spi_global_rankings.csv')\n",
    "head(inTeams)"
   ]
  },
  {
   "cell_type": "markdown",
   "metadata": {
    "slideshow": {
     "slide_type": "subslide"
    }
   },
   "source": [
    "Get the mean parameters (and the log mean)"
   ]
  },
  {
   "cell_type": "code",
   "execution_count": null,
   "metadata": {},
   "outputs": [],
   "source": [
    "mean.off<-mean(inTeams$off)\n",
    "mean.def<-mean(inTeams$def)\n",
    "lmean.off<-mean(log(inTeams$off))\n",
    "lmean.def<-mean(log(inTeams$def) ) \n",
    "mean.off\n",
    "mean.def"
   ]
  },
  {
   "cell_type": "markdown",
   "metadata": {
    "slideshow": {
     "slide_type": "subslide"
    }
   },
   "source": [
    "Get just the teams in the Premier League"
   ]
  },
  {
   "cell_type": "code",
   "execution_count": null,
   "metadata": {},
   "outputs": [],
   "source": [
    "premLeague<-subset(inTeams,league==\"Barclays Premier League\")\n",
    "premTeams<-premLeague$name\n",
    "rownames(premLeague)<-premTeams\n",
    "df.prem<-premLeague[,c(\"off\",\"def\")]\n",
    "df.prem"
   ]
  },
  {
   "cell_type": "markdown",
   "metadata": {
    "slideshow": {
     "slide_type": "subslide"
    }
   },
   "source": [
    "The offense parameter from fivethiryeight is the expected goals when playing against an average team, where the model uses a Poisson process for the number of goals produced. \n",
    "\n",
    "A Poisson distribution is a random variable with mass function at each integer $k\\in\\mathbb{N}$:\n",
    "$$ \\Pr(k)= \\frac{\\lambda^k e^{-\\lambda}}{k!}.$$\n",
    "\n",
    "A property of this distribution is that the expected value is $\\lambda.$"
   ]
  },
  {
   "cell_type": "markdown",
   "metadata": {
    "slideshow": {
     "slide_type": "subslide"
    }
   },
   "source": [
    "Because the value for $\\lambda$ has to be greater than 0, we will use a model where team $i$, when playing team $j$, scores $\\lambda_{ij}=\\exp(\\alpha_i-\\delta_j)$ where:\n",
    "* $\\alpha_i$ is an offense parameter for team $i$\n",
    "* $\\delta_j$ is a defense parameter for team $j$"
   ]
  },
  {
   "cell_type": "markdown",
   "metadata": {
    "slideshow": {
     "slide_type": "subslide"
    }
   },
   "source": [
    "So we can set the model parameters (and eliminate the $\\lambda_0$ term) to get:"
   ]
  },
  {
   "cell_type": "code",
   "execution_count": null,
   "metadata": {},
   "outputs": [],
   "source": [
    "lmean.def<- log(mean(df.prem$def))\n",
    "lmean.off<- log(mean(df.prem$off))               \n",
    "df.prem[\"alpha\"]<-log(df.prem[\"off\"])-lmean.def\n",
    "df.prem[\"delta\"]<-lmean.off-log(df.prem[\"def\"])\n",
    "head(df.prem) "
   ]
  },
  {
   "cell_type": "markdown",
   "metadata": {},
   "source": [
    "where this will guarantee that the expected goals for/conceded against the average team will match the given `off` and `def` parameters"
   ]
  },
  {
   "cell_type": "markdown",
   "metadata": {
    "slideshow": {
     "slide_type": "fragment"
    }
   },
   "source": [
    "The five-thirty eight model incorporates some additional terms reflecting a home game bonus effect, end a slight increase in the likelihood of a draw. We'll ignore that for now."
   ]
  },
  {
   "cell_type": "markdown",
   "metadata": {
    "slideshow": {
     "slide_type": "subslide"
    }
   },
   "source": [
    "Set up lists of the parameters:"
   ]
  },
  {
   "cell_type": "code",
   "execution_count": null,
   "metadata": {},
   "outputs": [],
   "source": [
    "alphaList<-df.prem$alpha\n",
    "deltaList<-df.prem$delta\n",
    "names(alphaList)<-rownames(df.prem)\n",
    "names(deltaList)<-rownames(df.prem)\n",
    "alphaList[\"Liverpool\"]"
   ]
  },
  {
   "cell_type": "markdown",
   "metadata": {
    "slideshow": {
     "slide_type": "subslide"
    }
   },
   "source": [
    "Using the `rpois` command we can draw a random possion draw of the scoreline for a particular match. Here we'll try this for *Liverpool* vs. *Manchester City*:"
   ]
  },
  {
   "cell_type": "code",
   "execution_count": null,
   "metadata": {},
   "outputs": [],
   "source": [
    "rpois(1,exp(alphaList[\"Liverpool\"]-deltaList[\"Manchester City\"]) )"
   ]
  },
  {
   "cell_type": "code",
   "execution_count": null,
   "metadata": {},
   "outputs": [],
   "source": [
    "c(rpois(1,exp(alphaList[\"Liverpool\"]-deltaList[\"Manchester City\"])),\n",
    "  rpois(1,exp(alphaList[\"Manchester City\"]-deltaList[\"Liverpool\"])))"
   ]
  },
  {
   "cell_type": "markdown",
   "metadata": {
    "slideshow": {
     "slide_type": "subslide"
    }
   },
   "source": [
    "Generalizing this into a function that takes as arguments the two team names:"
   ]
  },
  {
   "cell_type": "code",
   "execution_count": null,
   "metadata": {},
   "outputs": [],
   "source": [
    "draw.score<-function(team1,team2){\n",
    "    c(\n",
    "        rpois(1,exp(alphaList[team1]-deltaList[team2])),\n",
    "  rpois(1,exp(alphaList[team2]-deltaList[team1]))\n",
    "    )\n",
    "}\n",
    "draw.score(\"Liverpool\",\"Arsenal\")"
   ]
  },
  {
   "cell_type": "code",
   "execution_count": null,
   "metadata": {
    "slideshow": {
     "slide_type": "subslide"
    }
   },
   "outputs": [],
   "source": [
    "df.prem[c(\"Liverpool\",\"Arsenal\"),]"
   ]
  },
  {
   "cell_type": "code",
   "execution_count": null,
   "metadata": {},
   "outputs": [],
   "source": [
    "# Any guesses ?\n",
    "draw.score(\"Liverpool\",\"Arsenal\")"
   ]
  },
  {
   "cell_type": "markdown",
   "metadata": {
    "slideshow": {
     "slide_type": "subslide"
    }
   },
   "source": [
    "We can assemble the set of all matches"
   ]
  },
  {
   "cell_type": "code",
   "execution_count": null,
   "metadata": {},
   "outputs": [],
   "source": [
    "#install.packages('gtools')\n",
    "library('gtools')\n",
    "# All possible matches in a season\n",
    "allMatches<-permutations(20, 2, v=rownames(df.prem),repeats.allowed=FALSE)\n",
    "colnames(allMatches)<-c(\"home\",\"away\")\n",
    "head(allMatches,9)\n",
    "length(allMatches)"
   ]
  },
  {
   "cell_type": "markdown",
   "metadata": {},
   "source": [
    "*(Again, the fivethirtyeight model is a bit more complicated, and it incorporates the dynamics, for when a match **means** something extra to one team; we will also ignore this, and not try to carry running totals)*"
   ]
  },
  {
   "cell_type": "markdown",
   "metadata": {
    "slideshow": {
     "slide_type": "subslide"
    }
   },
   "source": [
    "Your assignment will be to form this in to a coherent picture of the outcomes for an entire league season."
   ]
  },
  {
   "cell_type": "code",
   "execution_count": null,
   "metadata": {
    "scrolled": true
   },
   "outputs": [],
   "source": [
    "# Example scores through the entire season\n",
    "ScoresMatrix <- matrix(nrow=nrow(allMatches),  ncol=4)\n",
    "for (ii in 1:nrow(allMatches)  ) {\n",
    "     ScoresMatrix[ii,1:2]=allMatches[ii,]\n",
    "     ScoresMatrix[ii,3:4]= draw.score(allMatches[ii,\"home\"],allMatches[ii,\"away\"] )  \n",
    "}\n",
    "colnames(ScoresMatrix)<-c(\"home.team\",\"away.team\",\"home.score\",\"away.score\")\n",
    "head(ScoresMatrix)"
   ]
  },
  {
   "cell_type": "code",
   "execution_count": null,
   "metadata": {},
   "outputs": [],
   "source": []
  }
 ],
 "metadata": {
  "celltoolbar": "Slideshow",
  "kernelspec": {
   "display_name": "R 4.3",
   "language": "R",
   "name": "ir43"
  },
  "language_info": {
   "codemirror_mode": "r",
   "file_extension": ".r",
   "mimetype": "text/x-r-source",
   "name": "R",
   "pygments_lexer": "r",
   "version": "4.3.1"
  },
  "rise": {
   "control": false,
   "enable_chalkboard": false,
   "scroll": true,
   "start_slideshow_at": "selected",
   "theme": "white",
   "transition": "slide"
  }
 },
 "nbformat": 4,
 "nbformat_minor": 4
}
