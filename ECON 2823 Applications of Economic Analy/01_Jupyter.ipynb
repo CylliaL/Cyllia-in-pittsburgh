{
 "cells": [
  {
   "cell_type": "markdown",
   "metadata": {
    "slideshow": {
     "slide_type": "slide"
    }
   },
   "source": [
    "# Jupyter Notebooks\n",
    "We're going to use Jupyter for this class, a slightly different operating environment (but similar) to the R markdown you used with Claire.\n",
    "\n",
    "This environment has some pros and some cons, but this way you can see how those pros and cons weight for you in particular\n",
    "* If you want to continue using R studio and R markdown, this is completely possible!"
   ]
  },
  {
   "cell_type": "markdown",
   "metadata": {
    "slideshow": {
     "slide_type": "subslide"
    }
   },
   "source": [
    "* In my view Jupyter is a nice environment for documenting applications/projects, at the stage where you're already pretty certain about the objects you're manipulating.\n",
    "     * The ability to run things on demand, and to play with a cell until you're happy is very useful\n",
    "     * Being able to directly comment what you're doing in Markdown is also great\n",
    "     * Jupyter can also create much nicer output of what you've done, similar to R-Markdown"
   ]
  },
  {
   "cell_type": "markdown",
   "metadata": {
    "slideshow": {
     "slide_type": "subslide"
    }
   },
   "source": [
    "* On the other hand, a full IDE like R-Studio is much nicer for more-basic tasks, exploring and playing with data, etc.\n",
    "    * So in R-Studio, you can click on any variable to check what it is, etc.\n",
    "    * You can look through the entire dataset fairly easily"
   ]
  },
  {
   "cell_type": "markdown",
   "metadata": {
    "slideshow": {
     "slide_type": "subslide"
    }
   },
   "source": [
    "Jupyter is often used to provide formatted documentation of a data science project, particularly as it can be used to export the output to HTML for the web\n",
    "\n",
    "Is is also a common interface on cloud platforms:\n",
    "* [Amazon Sagemaker](https://aws.amazon.com/sagemaker/)\n",
    "* [Azure ML Studio](https://studio.azureml.net/)\n",
    "* [Google Colab](https://colab.research.google.com/) (though using R here requires a different [link](https://colab.to/r))\n",
    "* [Posit Cloud](https://posit.cloud/) \n"
   ]
  },
  {
   "cell_type": "markdown",
   "metadata": {
    "slideshow": {
     "slide_type": "slide"
    }
   },
   "source": [
    "## How do we get this set up?\n",
    "We're going to install Jupyter via Anaconda (a data-science focused distribution of Python).\n",
    "\n",
    "You can download this anaconda package from [here](https://www.anaconda.com/products/individual). Hopefully you've already done this!\n",
    "\n",
    "* For Windows you probably want the 64-bit installation\n",
    "\n",
    "After we've installed the main Anaconda environment, we're going to make sure we've got the elements to run R code, as Jupyter is initially set-up to run Python code\n",
    "\n",
    "* This may get a little tricky, as we need to make sure that the paths are entered correctly"
   ]
  },
  {
   "cell_type": "markdown",
   "metadata": {
    "slideshow": {
     "slide_type": "slide"
    }
   },
   "source": [
    "## Installing R and associated elements\n",
    "\n",
    "* We could manage an R installation from within Anaconda, but you already have R installed (and have installed various packages you like).\n",
    "* Also, the current R version within Anaconda is 3.6, and we'll generally be using R 4.0 for things here.\n",
    "* We're therefore going to set up your current R environment to use with Jupyter, where we can do this from within Rstudio\n"
   ]
  },
  {
   "cell_type": "markdown",
   "metadata": {
    "slideshow": {
     "slide_type": "subslide"
    }
   },
   "source": [
    "## Mac (root install)\n",
    "This is a bit simpler on a Mac than Windows (I think)\n",
    "* Open up a terminal window\n",
    "    * check that you can access Jupyter with `jupyter --version`\n",
    "* Enter `R` to switch to a terminal console\n",
    "* Install IRkernel with \n",
    "    * `install.packages('IRkernel')`\n",
    "* Tell Jupyter where your `R` system lives by running \n",
    "    * `IRkernel::installspec(name = 'ir43', displayname = 'R 4.3')`\n",
    "\n",
    "We've given the kernel a different name just to make sure we've set this up correctly. You can now exit R by typing `q()` to quit."
   ]
  },
  {
   "cell_type": "markdown",
   "metadata": {
    "slideshow": {
     "slide_type": "subslide"
    }
   },
   "source": [
    "## Windows (root install)\n",
    "Windows is a bit more complicated, depending on your set up.\n",
    "* Open an Anaconda Prompt window\n",
    "* Navigate to the location of your R installation\n",
    "* Run R by simply typing `R` and hitting enter\n",
    "* Once in R Install the IRkernel with \n",
    "    * `install.packages('IRkernel')`\n",
    "* Tell Jupyter where your R system lives by running \n",
    "    * `IRkernel::installspec(name = 'ir40', displayname = 'R 4.3')`\n",
    "\n",
    "You can now exit R by typing `q()` to quit."
   ]
  },
  {
   "cell_type": "markdown",
   "metadata": {
    "slideshow": {
     "slide_type": "slide"
    }
   },
   "source": [
    "## Using Jupyter\n",
    "\n",
    "You can start jupyter from a terminal command\n",
    "\n",
    "* I tend to prefer a version of Jupyter that is run by the command:\n",
    "    * `jupyter-labs` This runs a slightly more customizable tab, which you can organize within it\n",
    "    * `jupyter notebook` is the standard command, this will open up the normal notebook\n",
    "* There are also online versions of Jupyter\n",
    "    * I'm running my slides via another server\n",
    "    * In particular I'm using the notebook version with another plugin called RISE"
   ]
  },
  {
   "cell_type": "markdown",
   "metadata": {
    "slideshow": {
     "slide_type": "subslide"
    }
   },
   "source": [
    "Jupyter notebooks are broken up into cells.\n",
    "\n",
    "* While in a cell you can type whatever you want, and hit Shift+Enter to run then cell\n",
    "\n",
    "* Hitting the `[ESC]` key will move you to Command mode where you can manipulate the cells\n",
    "   "
   ]
  },
  {
   "cell_type": "markdown",
   "metadata": {
    "slideshow": {
     "slide_type": "slide"
    }
   },
   "source": [
    "## Jupyter Command Mode\n",
    "When in command mode there are a number of hot keys to do things quickly ([Cheatsheet](https://www.edureka.co/blog/wp-content/uploads/2018/10/Jupyter_Notebook_CheatSheet_Edureka.pdf))\n",
    "* The `a` key adds a cell above the current one\n",
    "* The `b` key adds a cell above the current one\n",
    "* The `y` key makes the current cell a code cell\n",
    "* The `m` key makes the current cell a markdown cell\n",
    "* Entering `d` twice deletes the current cell"
   ]
  },
  {
   "cell_type": "markdown",
   "metadata": {
    "slideshow": {
     "slide_type": "slide"
    }
   },
   "source": [
    "## Jupyter Markdown Cells\n",
    "* In markdown cells you can enter simple formatted comments to surround your code. \n",
    "* If you go to Help > Markdown, you can see a cheat sheet for formatting things\n",
    "* Hitting Shift+Enter will render the markdown cells you have entered\n"
   ]
  },
  {
   "cell_type": "markdown",
   "metadata": {
    "slideshow": {
     "slide_type": "fragment"
    }
   },
   "source": [
    "# heading 1\n",
    "## heading 2\n",
    "* Bullet list 1\n",
    "* bullet list 2\n",
    "\n",
    "___\n",
    "\n",
    "| head1 | head2 |\n",
    "| --- | ---  |\n",
    "| entry1 | entry2 |\n",
    "| entry3 | entry4 |\n",
    "\n",
    "[Link](https://pitt.edu)"
   ]
  },
  {
   "cell_type": "markdown",
   "metadata": {
    "slideshow": {
     "slide_type": "slide"
    }
   },
   "source": [
    "## Jupyter Code Cells\n",
    "* Code cells are just and sequence of commands for the underlying kernel\n",
    "* Here we're using R, so anything you type in the cell and run is the same as if you ran it under R"
   ]
  },
  {
   "cell_type": "code",
   "execution_count": 6,
   "metadata": {},
   "outputs": [
    {
     "data": {
      "text/html": [
       "'/home/alistair/t/MQE/classes/notebooks'"
      ],
      "text/latex": [
       "'/home/alistair/t/MQE/classes/notebooks'"
      ],
      "text/markdown": [
       "'/home/alistair/t/MQE/classes/notebooks'"
      ],
      "text/plain": [
       "[1] \"/home/alistair/t/MQE/classes/notebooks\""
      ]
     },
     "metadata": {},
     "output_type": "display_data"
    }
   ],
   "source": [
    "getwd()"
   ]
  },
  {
   "cell_type": "code",
   "execution_count": 5,
   "metadata": {
    "slideshow": {
     "slide_type": "fragment"
    }
   },
   "outputs": [],
   "source": [
    "library(tidyverse) "
   ]
  },
  {
   "cell_type": "code",
   "execution_count": 7,
   "metadata": {
    "slideshow": {
     "slide_type": "fragment"
    }
   },
   "outputs": [],
   "source": [
    "# Here I'm using a data set on the MLB from Luca's class (I also loaded in tidyverse)\n",
    "MLB16.18 <- read_csv(\"MLB.csv\",show_col_types = FALSE) "
   ]
  },
  {
   "cell_type": "markdown",
   "metadata": {
    "slideshow": {
     "slide_type": "subslide"
    }
   },
   "source": [
    "## Output\n",
    "Just like R if you run something without an assignment, the system will provide you with the output"
   ]
  },
  {
   "cell_type": "code",
   "execution_count": 8,
   "metadata": {
    "slideshow": {
     "slide_type": "fragment"
    }
   },
   "outputs": [
    {
     "data": {
      "text/html": [
       "<table class=\"dataframe\">\n",
       "<caption>A tibble: 6 × 9</caption>\n",
       "<thead>\n",
       "\t<tr><th scope=col>Rk</th><th scope=col>Name</th><th scope=col>Age</th><th scope=col>Tm</th><th scope=col>Lg</th><th scope=col>AB</th><th scope=col>BA</th><th scope=col>Year</th><th scope=col>Agesqrd</th></tr>\n",
       "\t<tr><th scope=col>&lt;dbl&gt;</th><th scope=col>&lt;chr&gt;</th><th scope=col>&lt;dbl&gt;</th><th scope=col>&lt;chr&gt;</th><th scope=col>&lt;chr&gt;</th><th scope=col>&lt;dbl&gt;</th><th scope=col>&lt;dbl&gt;</th><th scope=col>&lt;dbl&gt;</th><th scope=col>&lt;dbl&gt;</th></tr>\n",
       "</thead>\n",
       "<tbody>\n",
       "\t<tr><td> 30</td><td>Brett Anderson*</td><td>28</td><td>LAD</td><td>NL</td><td>3</td><td>0</td><td>2016</td><td>784</td></tr>\n",
       "\t<tr><td>159</td><td>Dylan Bundy#   </td><td>23</td><td>BAL</td><td>AL</td><td>3</td><td>0</td><td>2016</td><td>529</td></tr>\n",
       "\t<tr><td>363</td><td>Matt Duffy     </td><td>27</td><td>HOU</td><td>AL</td><td>3</td><td>0</td><td>2016</td><td>729</td></tr>\n",
       "\t<tr><td>478</td><td>Gonzalez Germen</td><td>28</td><td>COL</td><td>NL</td><td>3</td><td>0</td><td>2016</td><td>784</td></tr>\n",
       "\t<tr><td>513</td><td>Terrance Gore  </td><td>25</td><td>KCR</td><td>AL</td><td>3</td><td>0</td><td>2016</td><td>625</td></tr>\n",
       "\t<tr><td>699</td><td>Ian Kennedy    </td><td>31</td><td>KCR</td><td>AL</td><td>3</td><td>0</td><td>2016</td><td>961</td></tr>\n",
       "</tbody>\n",
       "</table>\n"
      ],
      "text/latex": [
       "A tibble: 6 × 9\n",
       "\\begin{tabular}{lllllllll}\n",
       " Rk & Name & Age & Tm & Lg & AB & BA & Year & Agesqrd\\\\\n",
       " <dbl> & <chr> & <dbl> & <chr> & <chr> & <dbl> & <dbl> & <dbl> & <dbl>\\\\\n",
       "\\hline\n",
       "\t  30 & Brett Anderson* & 28 & LAD & NL & 3 & 0 & 2016 & 784\\\\\n",
       "\t 159 & Dylan Bundy\\#    & 23 & BAL & AL & 3 & 0 & 2016 & 529\\\\\n",
       "\t 363 & Matt Duffy      & 27 & HOU & AL & 3 & 0 & 2016 & 729\\\\\n",
       "\t 478 & Gonzalez Germen & 28 & COL & NL & 3 & 0 & 2016 & 784\\\\\n",
       "\t 513 & Terrance Gore   & 25 & KCR & AL & 3 & 0 & 2016 & 625\\\\\n",
       "\t 699 & Ian Kennedy     & 31 & KCR & AL & 3 & 0 & 2016 & 961\\\\\n",
       "\\end{tabular}\n"
      ],
      "text/markdown": [
       "\n",
       "A tibble: 6 × 9\n",
       "\n",
       "| Rk &lt;dbl&gt; | Name &lt;chr&gt; | Age &lt;dbl&gt; | Tm &lt;chr&gt; | Lg &lt;chr&gt; | AB &lt;dbl&gt; | BA &lt;dbl&gt; | Year &lt;dbl&gt; | Agesqrd &lt;dbl&gt; |\n",
       "|---|---|---|---|---|---|---|---|---|\n",
       "|  30 | Brett Anderson* | 28 | LAD | NL | 3 | 0 | 2016 | 784 |\n",
       "| 159 | Dylan Bundy#    | 23 | BAL | AL | 3 | 0 | 2016 | 529 |\n",
       "| 363 | Matt Duffy      | 27 | HOU | AL | 3 | 0 | 2016 | 729 |\n",
       "| 478 | Gonzalez Germen | 28 | COL | NL | 3 | 0 | 2016 | 784 |\n",
       "| 513 | Terrance Gore   | 25 | KCR | AL | 3 | 0 | 2016 | 625 |\n",
       "| 699 | Ian Kennedy     | 31 | KCR | AL | 3 | 0 | 2016 | 961 |\n",
       "\n"
      ],
      "text/plain": [
       "  Rk  Name            Age Tm  Lg AB BA Year Agesqrd\n",
       "1  30 Brett Anderson* 28  LAD NL 3  0  2016 784    \n",
       "2 159 Dylan Bundy#    23  BAL AL 3  0  2016 529    \n",
       "3 363 Matt Duffy      27  HOU AL 3  0  2016 729    \n",
       "4 478 Gonzalez Germen 28  COL NL 3  0  2016 784    \n",
       "5 513 Terrance Gore   25  KCR AL 3  0  2016 625    \n",
       "6 699 Ian Kennedy     31  KCR AL 3  0  2016 961    "
      ]
     },
     "metadata": {},
     "output_type": "display_data"
    }
   ],
   "source": [
    "head(MLB16.18)"
   ]
  },
  {
   "cell_type": "markdown",
   "metadata": {
    "slideshow": {
     "slide_type": "subslide"
    }
   },
   "source": [
    "You can run linear-models as before"
   ]
  },
  {
   "cell_type": "code",
   "execution_count": 10,
   "metadata": {
    "slideshow": {
     "slide_type": "fragment"
    }
   },
   "outputs": [
    {
     "data": {
      "text/html": [
       "<table class=\"dataframe\">\n",
       "<caption>A matrix: 1 × 3 of type dbl</caption>\n",
       "<thead>\n",
       "\t<tr><th scope=col>(Intercept)</th><th scope=col>Age</th><th scope=col>Agesqrd</th></tr>\n",
       "</thead>\n",
       "<tbody>\n",
       "\t<tr><td>0.04664405</td><td>0.009891678</td><td>-0.0001487512</td></tr>\n",
       "</tbody>\n",
       "</table>\n"
      ],
      "text/latex": [
       "A matrix: 1 × 3 of type dbl\n",
       "\\begin{tabular}{lll}\n",
       " (Intercept) & Age & Agesqrd\\\\\n",
       "\\hline\n",
       "\t 0.04664405 & 0.009891678 & -0.0001487512\\\\\n",
       "\\end{tabular}\n"
      ],
      "text/markdown": [
       "\n",
       "A matrix: 1 × 3 of type dbl\n",
       "\n",
       "| (Intercept) | Age | Agesqrd |\n",
       "|---|---|---|\n",
       "| 0.04664405 | 0.009891678 | -0.0001487512 |\n",
       "\n"
      ],
      "text/plain": [
       "     (Intercept) Age         Agesqrd      \n",
       "[1,] 0.04664405  0.009891678 -0.0001487512"
      ]
     },
     "metadata": {},
     "output_type": "display_data"
    },
    {
     "data": {
      "text/plain": [
       "\n",
       "Call:\n",
       "lm(formula = BA ~ Age + Agesqrd, data = MLB16.18)\n",
       "\n",
       "Residuals:\n",
       "     Min       1Q   Median       3Q      Max \n",
       "-0.21108 -0.04334  0.02403  0.06002  0.46603 \n",
       "\n",
       "Coefficients:\n",
       "              Estimate Std. Error t value Pr(>|t|)  \n",
       "(Intercept)  4.664e-02  7.381e-02   0.632   0.5274  \n",
       "Age          9.892e-03  5.102e-03   1.939   0.0526 .\n",
       "Agesqrd     -1.488e-04  8.718e-05  -1.706   0.0881 .\n",
       "---\n",
       "Signif. codes:  0 '***' 0.001 '**' 0.01 '*' 0.05 '.' 0.1 ' ' 1\n",
       "\n",
       "Residual standard error: 0.09473 on 2892 degrees of freedom\n",
       "Multiple R-squared:  0.003439,\tAdjusted R-squared:  0.00275 \n",
       "F-statistic: 4.991 on 2 and 2892 DF,  p-value: 0.00686\n"
      ]
     },
     "metadata": {},
     "output_type": "display_data"
    }
   ],
   "source": [
    "BA.reg1 <- lm (data=MLB16.18, BA ~ Age+Agesqrd)\n",
    "t(coef(BA.reg1))\n",
    "summary(BA.reg1)"
   ]
  },
  {
   "cell_type": "markdown",
   "metadata": {
    "slideshow": {
     "slide_type": "subslide"
    }
   },
   "source": [
    "Look at the summary of the model:"
   ]
  },
  {
   "cell_type": "code",
   "execution_count": 11,
   "metadata": {
    "slideshow": {
     "slide_type": "fragment"
    }
   },
   "outputs": [
    {
     "data": {
      "text/plain": [
       "\n",
       "Call:\n",
       "lm(formula = BA ~ Age + Agesqrd, data = MLB16.18)\n",
       "\n",
       "Residuals:\n",
       "     Min       1Q   Median       3Q      Max \n",
       "-0.21108 -0.04334  0.02403  0.06002  0.46603 \n",
       "\n",
       "Coefficients:\n",
       "              Estimate Std. Error t value Pr(>|t|)  \n",
       "(Intercept)  4.664e-02  7.381e-02   0.632   0.5274  \n",
       "Age          9.892e-03  5.102e-03   1.939   0.0526 .\n",
       "Agesqrd     -1.488e-04  8.718e-05  -1.706   0.0881 .\n",
       "---\n",
       "Signif. codes:  0 '***' 0.001 '**' 0.01 '*' 0.05 '.' 0.1 ' ' 1\n",
       "\n",
       "Residual standard error: 0.09473 on 2892 degrees of freedom\n",
       "Multiple R-squared:  0.003439,\tAdjusted R-squared:  0.00275 \n",
       "F-statistic: 4.991 on 2 and 2892 DF,  p-value: 0.00686\n"
      ]
     },
     "metadata": {},
     "output_type": "display_data"
    }
   ],
   "source": [
    "summary(BA.reg1,digits=5)"
   ]
  },
  {
   "cell_type": "markdown",
   "metadata": {
    "slideshow": {
     "slide_type": "subslide"
    }
   },
   "source": [
    "And graph the outputs:"
   ]
  },
  {
   "cell_type": "code",
   "execution_count": 17,
   "metadata": {
    "slideshow": {
     "slide_type": "fragment"
    }
   },
   "outputs": [
    {
     "data": {
      "image/png": "[encoded data removed]",
      "text/plain": [
       "plot without title"
      ]
     },
     "metadata": {
      "image/png": {
       "height": 420,
       "width": 420
      }
     },
     "output_type": "display_data"
    }
   ],
   "source": [
    "ggplot( MLB16.18, \n",
    "       aes(y=BA.reg1$fitted.values,x=Age)) + geom_line(size=2) +geom_point(col=2,size=5) + ggtitle(\"MLB Batting Average: fitted quadratic\") +\n",
    "theme(plot.title = element_text(hjust = 0.5)\n",
    "     )\n"
   ]
  },
  {
   "cell_type": "markdown",
   "metadata": {
    "slideshow": {
     "slide_type": "subslide"
    }
   },
   "source": [
    "Similar to R, you need to load any libraries if your commands will use them"
   ]
  },
  {
   "cell_type": "code",
   "execution_count": 22,
   "metadata": {},
   "outputs": [
    {
     "data": {
      "text/html": [
       "<style>\n",
       ".list-inline {list-style: none; margin:0; padding: 0}\n",
       ".list-inline>li {display: inline-block}\n",
       ".list-inline>li:not(:last-child)::after {content: \"\\00b7\"; padding: 0 .5ex}\n",
       "</style>\n",
       "<ol class=list-inline><li>'Rk'</li><li>'Name'</li><li>'Age'</li><li>'Tm'</li><li>'Lg'</li><li>'AB'</li><li>'BA'</li><li>'Year'</li><li>'Agesqrd'</li></ol>\n"
      ],
      "text/latex": [
       "\\begin{enumerate*}\n",
       "\\item 'Rk'\n",
       "\\item 'Name'\n",
       "\\item 'Age'\n",
       "\\item 'Tm'\n",
       "\\item 'Lg'\n",
       "\\item 'AB'\n",
       "\\item 'BA'\n",
       "\\item 'Year'\n",
       "\\item 'Agesqrd'\n",
       "\\end{enumerate*}\n"
      ],
      "text/markdown": [
       "1. 'Rk'\n",
       "2. 'Name'\n",
       "3. 'Age'\n",
       "4. 'Tm'\n",
       "5. 'Lg'\n",
       "6. 'AB'\n",
       "7. 'BA'\n",
       "8. 'Year'\n",
       "9. 'Agesqrd'\n",
       "\n",
       "\n"
      ],
      "text/plain": [
       "[1] \"Rk\"      \"Name\"    \"Age\"     \"Tm\"      \"Lg\"      \"AB\"      \"BA\"     \n",
       "[8] \"Year\"    \"Agesqrd\""
      ]
     },
     "metadata": {},
     "output_type": "display_data"
    }
   ],
   "source": [
    "colnames(MLB16.18)"
   ]
  },
  {
   "cell_type": "markdown",
   "metadata": {
    "slideshow": {
     "slide_type": "fragment"
    }
   },
   "source": [
    "Note also that your working directory is set to the directory of the workbook you're in"
   ]
  },
  {
   "cell_type": "code",
   "execution_count": 13,
   "metadata": {
    "slideshow": {
     "slide_type": "fragment"
    }
   },
   "outputs": [],
   "source": [
    "setwd('~/t/MQE/classes/')"
   ]
  },
  {
   "cell_type": "markdown",
   "metadata": {
    "slideshow": {
     "slide_type": "slide"
    }
   },
   "source": [
    "## Notebook Sequentiality\n",
    "Any cell you run, it's as if you entered that in to the R command console, where a notebook has a hidden implicit state.\n",
    "\n",
    "* While the progression of a notebook is meant to be linear from top to bottom, you can run the cells in any order\n",
    "\n",
    "* Let's switch back to the notebook underlying these slides for an example"
   ]
  },
  {
   "cell_type": "markdown",
   "metadata": {
    "slideshow": {
     "slide_type": "notes"
    }
   },
   "source": [
    "Note, that the slides version of this was done using an additional plugin called RISE\n",
    "\n",
    "Opening a terminal you can install RISE by running the command:\n",
    "\n",
    "``conda install RISE``\n",
    "\n",
    "Then the next time you start Jupyter, this will be ready.\n",
    "\n",
    "Also, if you're creating Slides, you should run `View` > `Cell Toolbar` >  `Slideshow` to show which cells are\n",
    "* Slides\n",
    "* Sub-slides\n",
    "* Fragments within the slide\n",
    "* Notes (like this cell)\n",
    "\n",
    "However, unless you're presenting something where you want live versions it, you're probably fine without this"
   ]
  },
  {
   "cell_type": "code",
   "execution_count": 25,
   "metadata": {},
   "outputs": [
    {
     "data": {
      "text/html": [
       "10"
      ],
      "text/latex": [
       "10"
      ],
      "text/markdown": [
       "10"
      ],
      "text/plain": [
       "[1] 10"
      ]
     },
     "metadata": {},
     "output_type": "display_data"
    }
   ],
   "source": [
    "x+y  "
   ]
  },
  {
   "cell_type": "code",
   "execution_count": 24,
   "metadata": {
    "slideshow": {
     "slide_type": "fragment"
    }
   },
   "outputs": [
    {
     "data": {
      "text/html": [
       "10"
      ],
      "text/latex": [
       "10"
      ],
      "text/markdown": [
       "10"
      ],
      "text/plain": [
       "[1] 10"
      ]
     },
     "metadata": {},
     "output_type": "display_data"
    }
   ],
   "source": [
    "y <- 4\n",
    "x <- 6\n",
    "x+y"
   ]
  },
  {
   "cell_type": "code",
   "execution_count": 26,
   "metadata": {
    "slideshow": {
     "slide_type": "fragment"
    }
   },
   "outputs": [
    {
     "data": {
      "text/html": [
       "22"
      ],
      "text/latex": [
       "22"
      ],
      "text/markdown": [
       "22"
      ],
      "text/plain": [
       "[1] 22"
      ]
     },
     "metadata": {},
     "output_type": "display_data"
    }
   ],
   "source": [
    "y <- 10\n",
    "x <- 12\n",
    "x+y"
   ]
  },
  {
   "cell_type": "markdown",
   "metadata": {
    "slideshow": {
     "slide_type": "subslide"
    }
   },
   "source": [
    "## Notebook Sequentiality\n",
    "As such, you need to make sure you understand which cells you've run and in which order\n",
    "\n",
    "If you're happy with your notebook, you can always choose to save it as a fixed output.\n",
    "\n",
    "* Go to `File` > `Download as` and save it as a HTML output for example\n",
    "* This will ouput the current state of the notebook, for whichver cells have been run\n",
    "* Note, if you have multiple notebooks open, the state in each notebook is separate, so lines you run in one notebook don't affect the others\n"
   ]
  }
 ],
 "metadata": {
  "celltoolbar": "Slideshow",
  "kernelspec": {
   "display_name": "R 4.3",
   "language": "R",
   "name": "ir43"
  },
  "language_info": {
   "codemirror_mode": "r",
   "file_extension": ".r",
   "mimetype": "text/x-r-source",
   "name": "R",
   "pygments_lexer": "r",
   "version": "4.3.1"
  }
 },
 "nbformat": 4,
 "nbformat_minor": 4
}
