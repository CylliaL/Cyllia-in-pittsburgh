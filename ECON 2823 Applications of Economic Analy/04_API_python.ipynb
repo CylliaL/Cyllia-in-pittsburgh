{
 "cells": [
  {
   "cell_type": "markdown",
   "metadata": {},
   "source": [
    "# A Basic Introduction to using APIs for Acquiring Data\n",
    "---"
   ]
  },
  {
   "cell_type": "markdown",
   "metadata": {},
   "source": [
    "First, I will use these two libraries, so I should load them:"
   ]
  },
  {
   "cell_type": "code",
   "execution_count": null,
   "metadata": {
    "tags": []
   },
   "outputs": [],
   "source": [
    "# Import two libraries\n",
    "import requests # this handles the getting web data\n",
    "import pandas as pd # this is pandas, where I've given a short name 'pd'"
   ]
  },
  {
   "cell_type": "code",
   "execution_count": null,
   "metadata": {
    "tags": []
   },
   "outputs": [],
   "source": [
    "import sys\n",
    "sys.path.append('/home/alistair/.keys')\n",
    "import alistair_keys"
   ]
  },
  {
   "cell_type": "markdown",
   "metadata": {},
   "source": [
    "## Open Notify (who's in Space!)"
   ]
  },
  {
   "cell_type": "code",
   "execution_count": null,
   "metadata": {
    "tags": []
   },
   "outputs": [],
   "source": [
    "# Set the variable to the output of the requests.get() function\n",
    "# Pointed at a very specific domain\n",
    "resp = requests.get('http://api.open-notify.org/astros.json')\n",
    "# This is an if command\n",
    "if resp.status_code==200 : # the condition here is a 200 status code (something like a 404 or 403 would be an error!)\n",
    "    print(\"Good GET\") # everything that's indented is then run if true\n",
    "received_dict=resp.json()\n",
    "# Anything run on the last line will be output to the notebook\n",
    "received_dict"
   ]
  },
  {
   "cell_type": "markdown",
   "metadata": {},
   "source": [
    "* Explaining the output, the braces `{ }` tell us this is a dict data type (a dictionary). \n",
    "* Each entry is an `key:value` pair a `'key'` to describe the entry, and a `value` associated with that key. \n",
    "   * So the `'message'` key has value `'success'`. \n",
    "   * The `'people'` key has a value which is a list `[ ]`\n",
    "   * Each entry in the `people` list is another dictionary with two keys \n",
    "      * A `craft` for the name of the vessel\n",
    "      * A `name` for the astronaut\n",
    "\n",
    "Extracting the `people` entry, we just enter the key as an argument for the dictionary. "
   ]
  },
  {
   "cell_type": "code",
   "execution_count": null,
   "metadata": {
    "tags": []
   },
   "outputs": [],
   "source": [
    "spacePeople=received_dict['people']\n",
    "spacePeople"
   ]
  },
  {
   "cell_type": "markdown",
   "metadata": {},
   "source": [
    "Similarly, for the list we can call any entry by the numerical value (where the first entry is 0)"
   ]
  },
  {
   "cell_type": "code",
   "execution_count": null,
   "metadata": {
    "tags": []
   },
   "outputs": [],
   "source": [
    "spacePeople[0]['craft']"
   ]
  },
  {
   "cell_type": "code",
   "execution_count": null,
   "metadata": {
    "tags": []
   },
   "outputs": [],
   "source": [
    "spacePeople[6]"
   ]
  },
  {
   "cell_type": "markdown",
   "metadata": {},
   "source": [
    "Often in Python it's good to figure out how long things are, or what data type they are:"
   ]
  },
  {
   "cell_type": "code",
   "execution_count": null,
   "metadata": {
    "tags": []
   },
   "outputs": [],
   "source": [
    "print(  len( spacePeople )  )  # len() tells me the length of the listable object\n",
    "type(spacePeople)  # type() confirms this is a list data type"
   ]
  },
  {
   "cell_type": "markdown",
   "metadata": {},
   "source": [
    "The list here is made up of a series of 'dict' (a dictionary) entries, the key-name and value pair for the specific list entry.\n",
    "\n",
    "Here I'm just going to extract the type for each entry in turn and print it to output:"
   ]
  },
  {
   "cell_type": "code",
   "execution_count": null,
   "metadata": {
    "tags": []
   },
   "outputs": [],
   "source": [
    "for entry in spacePeople:\n",
    "    print(type(entry ))"
   ]
  },
  {
   "cell_type": "markdown",
   "metadata": {},
   "source": [
    "Thankfully, it's easy to bring Lists of dictionaries like this into Pandas as a dataframe"
   ]
  },
  {
   "cell_type": "code",
   "execution_count": null,
   "metadata": {
    "tags": []
   },
   "outputs": [],
   "source": [
    "df=pd.DataFrame(resp.json()['people'])\n",
    "df"
   ]
  },
  {
   "cell_type": "markdown",
   "metadata": {},
   "source": [
    "Dataframes in python are similar to R, where each column can be a different data type. \n",
    "\n",
    "Thankfully, pandas has lots of helper functions built in that can operate on both columns"
   ]
  },
  {
   "cell_type": "code",
   "execution_count": null,
   "metadata": {
    "tags": []
   },
   "outputs": [],
   "source": [
    "for spacecraft in df['craft'].unique(): #( for each unique entry in the column)\n",
    "    print(spacecraft) # print out it's name"
   ]
  },
  {
   "cell_type": "markdown",
   "metadata": {},
   "source": [
    "Because you may want to get data via Python, but analyze it in R, it is often convenient to export the dataframe you've constructed to a csv file."
   ]
  },
  {
   "cell_type": "code",
   "execution_count": null,
   "metadata": {
    "tags": []
   },
   "outputs": [],
   "source": [
    "df.to_csv('CurrentSpacePeople.csv',columns=[\"craft\",\"name\"])"
   ]
  },
  {
   "cell_type": "markdown",
   "metadata": {},
   "source": [
    "## FBI Most Wanted"
   ]
  },
  {
   "cell_type": "markdown",
   "metadata": {},
   "source": [
    "Anyone who is making an API available will normally have some documentation about how to make requests. For the FBI most wanted, though fairly minimal, there is documentation [here](https://www.fbi.gov/wanted/api)\n",
    "\n",
    "I read this, and will use it to access their data."
   ]
  },
  {
   "cell_type": "code",
   "execution_count": null,
   "metadata": {
    "tags": []
   },
   "outputs": [],
   "source": [
    "# Make an empty list\n",
    "resp_list=[]\n",
    "# Add the first page of result to the list \n",
    "resp_list.append( requests.get('https://api.fbi.gov/wanted/v1/list'))\n",
    "# get the status code for the page (remember 200 codes are good!)\n",
    "print(resp_list[0].status_code) # note that in python, lists starts at element zero!"
   ]
  },
  {
   "cell_type": "code",
   "execution_count": null,
   "metadata": {
    "tags": []
   },
   "outputs": [],
   "source": [
    "type(resp_list[0])"
   ]
  },
  {
   "cell_type": "markdown",
   "metadata": {},
   "source": [
    "The response data is stored in the `.json()` part of the requests response"
   ]
  },
  {
   "cell_type": "code",
   "execution_count": null,
   "metadata": {
    "tags": []
   },
   "outputs": [],
   "source": [
    "resp_list[0].json() # This will be quite long!"
   ]
  },
  {
   "cell_type": "markdown",
   "metadata": {},
   "source": [
    "Probably easier to just iterate through the data here:"
   ]
  },
  {
   "cell_type": "code",
   "execution_count": null,
   "metadata": {
    "tags": []
   },
   "outputs": [],
   "source": [
    "i=1 # initialize variable i to 1\n",
    "# For each key in the dictionary, print the key name\n",
    "for key in resp_list[0].json(): \n",
    "    print(\"key \"+str(i)+\": \"+key)\n",
    "    i=i+1\n",
    "# Now that this is no longer indented, it's not part of the for loop\n",
    "print (str(i-1) +\" keys printed\") # Summarize what we just did"
   ]
  },
  {
   "cell_type": "markdown",
   "metadata": {},
   "source": [
    "The page key here is just which page of entries the request got from the website"
   ]
  },
  {
   "cell_type": "code",
   "execution_count": null,
   "metadata": {
    "tags": []
   },
   "outputs": [],
   "source": [
    "len(resp_list[0].json()['items'])"
   ]
  },
  {
   "cell_type": "code",
   "execution_count": null,
   "metadata": {
    "tags": []
   },
   "outputs": [],
   "source": [
    "print(\"There are \"+ str( resp_list[0].json()['total'] )+ \" total entries in the MostWanted List\")\n",
    "print(\"But there are only \"+str(  len(resp_list[0].json()['items']) ) + \" entries in the Items list!\")"
   ]
  },
  {
   "cell_type": "markdown",
   "metadata": {},
   "source": [
    "The reason for this, is that our get request only populated the first page. From reading the documentation, we can pass a parameter to the API to ask for a different page:"
   ]
  },
  {
   "cell_type": "code",
   "execution_count": null,
   "metadata": {
    "tags": []
   },
   "outputs": [],
   "source": [
    "resp_list.append(requests.get('https://api.fbi.gov/wanted/v1/list', params={'page': 2}))\n",
    "print(resp_list[1].status_code)"
   ]
  },
  {
   "cell_type": "markdown",
   "metadata": {},
   "source": [
    "Let's get multiple pages using a for loop... but before we do, let's look at one intricacy of python:"
   ]
  },
  {
   "cell_type": "code",
   "execution_count": null,
   "metadata": {
    "tags": []
   },
   "outputs": [],
   "source": [
    "for ii in range(0,5): # range(0,5) would be similar\n",
    "    print(ii)"
   ]
  },
  {
   "cell_type": "markdown",
   "metadata": {},
   "source": [
    "So the range command here runs over 5 total entries, but because it starts at zero, the last entry is 4."
   ]
  },
  {
   "cell_type": "markdown",
   "metadata": {},
   "source": [
    "So we're going to need how many pages?"
   ]
  },
  {
   "cell_type": "code",
   "execution_count": null,
   "metadata": {
    "tags": []
   },
   "outputs": [],
   "source": [
    "resp_list[0].json()['total']/ len( resp_list[0].json()['items'] )"
   ]
  },
  {
   "cell_type": "markdown",
   "metadata": {},
   "source": [
    "Initializing our list:"
   ]
  },
  {
   "cell_type": "code",
   "execution_count": null,
   "metadata": {
    "tags": []
   },
   "outputs": [],
   "source": [
    "resp_list=[]"
   ]
  },
  {
   "cell_type": "markdown",
   "metadata": {},
   "source": [
    "So we'll explicitly tell it to look through pages 1 to 8"
   ]
  },
  {
   "cell_type": "code",
   "execution_count": null,
   "metadata": {
    "tags": []
   },
   "outputs": [],
   "source": [
    "for ii in range(1,9): # for 1 and 15 (note it doesn't include 16) do the following: \n",
    "    resp_list.append(requests.get('https://api.fbi.gov/wanted/v1/list', params={'page': ii}))\n",
    "    if resp_list[ii-1].status_code==200: print(\"Page \"+str(ii)+\" captured\") # this is indented, so it's within the for loop"
   ]
  },
  {
   "cell_type": "code",
   "execution_count": null,
   "metadata": {
    "tags": []
   },
   "outputs": [],
   "source": [
    "resp_list # let's check they all have 200 codes!"
   ]
  },
  {
   "cell_type": "markdown",
   "metadata": {},
   "source": [
    "I'm going to append all the entries in the list together as a dataframe:"
   ]
  },
  {
   "cell_type": "code",
   "execution_count": null,
   "metadata": {
    "tags": []
   },
   "outputs": [],
   "source": [
    "df_list=[] # create empty list\n",
    "for resp in resp_list:\n",
    "    df_list.append( pd.DataFrame(resp.json()['items']) ) # append the items entry in the json response as a new entry in the list\n",
    "# No indent, so this is after the for loop...\n",
    "dfJoined=pd.concat(df_list, ignore_index=True) # Join all the separate dataframes in the list together, ingnoring the separate indices...\n",
    "dfJoined"
   ]
  },
  {
   "cell_type": "code",
   "execution_count": null,
   "metadata": {
    "tags": []
   },
   "outputs": [],
   "source": [
    "list_of_lists=dfJoined[\"field_offices\"].to_list()\n",
    "field_office_list=set() # a set is an unordered list with no repeat entries...\n",
    "for sublist in list_of_lists: \n",
    "    if sublist is not None: # If the sublist has some entries\n",
    "        for office in sublist: # for each office in the sublist\n",
    "            if office is not None: field_office_list.add(office) # if it isn't None type, add to the set\n",
    "field_office_list # print the set at the end!"
   ]
  },
  {
   "cell_type": "markdown",
   "metadata": {},
   "source": [
    "We can be more precise here, where we could have asked the API about the pittsburgh field office specifically as a parameter:"
   ]
  },
  {
   "cell_type": "code",
   "execution_count": null,
   "metadata": {
    "tags": []
   },
   "outputs": [],
   "source": [
    "response = requests.get('https://api.fbi.gov/wanted/v1/list', params={\n",
    "    'field_offices': 'pittsburgh'\n",
    "})\n",
    "pittsburghList=response.json()['items']\n",
    "len(pittsburghList)"
   ]
  },
  {
   "cell_type": "code",
   "execution_count": null,
   "metadata": {
    "tags": []
   },
   "outputs": [],
   "source": [
    "pghFBI=pd.DataFrame(pittsburghList)\n",
    "pghFBI[ ['title','images','description'] ] "
   ]
  },
  {
   "cell_type": "markdown",
   "metadata": {},
   "source": [
    "There are 18 entries (so 0 to 18 in the list)"
   ]
  },
  {
   "cell_type": "code",
   "execution_count": null,
   "metadata": {
    "tags": []
   },
   "outputs": [],
   "source": [
    "imgList=[]\n",
    "imgLoc=pghFBI[[\"title\",\"images\"]]\n",
    "for index, row in imgLoc.iterrows():\n",
    "    imgList.append( {'name':row['title'],'thumb':row['images'][0]['thumb']})"
   ]
  },
  {
   "cell_type": "code",
   "execution_count": null,
   "metadata": {
    "tags": []
   },
   "outputs": [],
   "source": [
    "imgList=[]\n",
    "imgLoc=pghFBI[[\"title\",\"images\"]]\n",
    "for index, row in imgLoc.iterrows(): # Here I'm iterating over each row in the dataframe\n",
    "    imgList.append( {'name':row['title'],'thumb':row['images'][0]['thumb']})\n",
    "# Here I'll use a library called IPython to display the output in a web format:\n",
    "from IPython.display import Image, display\n",
    "# Now use Ipython to display them\n",
    "for img in imgList[ : 5]: # Here I'm getting the first 3 images\n",
    "    display(img['name'],Image(url=img['thumb'], width=150))"
   ]
  },
  {
   "cell_type": "markdown",
   "metadata": {},
   "source": [
    "___\n",
    "## Bing Search\n",
    "This code requires an API key (which is like a password) to get access. I signed up for an account (and a $100 credit, student signup [here](https://azure.microsoft.com/en-us/free/students/https://azure.microsoft.com/en-us/free/students/)), and set up this access account under the *free* tier. There is documentation for the API [here](https://learn.microsoft.com/en-us/bing/search-apis/bing-web-search/quickstarts/rest/python) (in fact I copied some of their code!)"
   ]
  },
  {
   "cell_type": "markdown",
   "metadata": {},
   "source": [
    "Here I just read in my key from a file (that you don't have!)"
   ]
  },
  {
   "cell_type": "code",
   "execution_count": null,
   "metadata": {
    "tags": []
   },
   "outputs": [],
   "source": [
    "bingKey=alistair_keys.bing['key']"
   ]
  },
  {
   "cell_type": "code",
   "execution_count": null,
   "metadata": {
    "tags": []
   },
   "outputs": [],
   "source": [
    "server = \"https://api.bing.microsoft.com/v7.0/search\"\n",
    "search_term = \"Alistair Wilson MQE\"\n",
    "headers = {\"Ocp-Apim-Subscription-Key\": bingKey} # Here I'm including my API key to get permission to use this resource\n",
    "params = {\"q\": search_term, \"textDecorations\": True, \"textFormat\": \"HTML\" }\n",
    "resp = requests.get(server,\n",
    "                    headers=headers, params=params\n",
    "                   )\n",
    "search_results = resp.json()"
   ]
  },
  {
   "cell_type": "code",
   "execution_count": null,
   "metadata": {
    "tags": []
   },
   "outputs": [],
   "source": [
    "print(resp.status_code) # This should be 200"
   ]
  },
  {
   "cell_type": "code",
   "execution_count": null,
   "metadata": {
    "tags": []
   },
   "outputs": [],
   "source": [
    "i=1\n",
    "for key in search_results: \n",
    "    print(\"key \"+str(i)+\": \"+key)\n",
    "    i=i+1"
   ]
  },
  {
   "cell_type": "code",
   "execution_count": null,
   "metadata": {
    "tags": []
   },
   "outputs": [],
   "source": [
    "type(search_results[\"webPages\"])"
   ]
  },
  {
   "cell_type": "code",
   "execution_count": null,
   "metadata": {
    "tags": []
   },
   "outputs": [],
   "source": [
    "webResults=search_results[\"webPages\"]\n",
    "i=1\n",
    "for key in webResults: \n",
    "    print(\"key \"+str(i)+\": \"+key)\n",
    "    i=i+1"
   ]
  },
  {
   "cell_type": "code",
   "execution_count": null,
   "metadata": {
    "tags": []
   },
   "outputs": [],
   "source": [
    "webResults[\"totalEstimatedMatches\"]"
   ]
  },
  {
   "cell_type": "markdown",
   "metadata": {},
   "source": [
    "The main results from this query are in the `\"value\"` key"
   ]
  },
  {
   "cell_type": "code",
   "execution_count": null,
   "metadata": {
    "tags": []
   },
   "outputs": [],
   "source": [
    "pd.DataFrame(webResults[\"value\"])"
   ]
  },
  {
   "cell_type": "markdown",
   "metadata": {},
   "source": [
    "Microsoft's help documentation also gave me the following snippet which uses IPython to display this"
   ]
  },
  {
   "cell_type": "code",
   "execution_count": null,
   "metadata": {
    "tags": []
   },
   "outputs": [],
   "source": [
    "from IPython.display import HTML\n",
    "\n",
    "rows = \"\\n\".join([\"\"\"<tr>\n",
    "                       <td><a href=\\\"{0}\\\">{1}</a></td>\n",
    "                       <td>{2}</td>\n",
    "                     </tr>\"\"\".format(v[\"url\"], v[\"name\"], v[\"snippet\"])\n",
    "                  for v in search_results[\"webPages\"][\"value\"]])\n",
    "HTML(\"<table>{0}</table>\".format(rows))"
   ]
  },
  {
   "cell_type": "markdown",
   "metadata": {},
   "source": [
    "___\n",
    "## Canvas API example"
   ]
  },
  {
   "cell_type": "markdown",
   "metadata": {},
   "source": [
    "This is another API where you need an access key. Again, I've stored it locally, where tehnically, with this one, you could change anything I have access to in Canvas!\n",
    "\n",
    "As a student in Canvas I believe you can create your own API key in the settings menu."
   ]
  },
  {
   "cell_type": "code",
   "execution_count": null,
   "metadata": {},
   "outputs": [],
   "source": [
    "f = open(\"../../.canvas.txt\", \"r\")\n",
    "# Open the file, read the key, strip the whitespace\n",
    "canvasKey=f.read().rstrip()\n",
    "f.close()"
   ]
  },
  {
   "cell_type": "markdown",
   "metadata": {},
   "source": [
    "See [Canvas API reference](canvas.instructure.com/doc/api) for details on the set up here"
   ]
  },
  {
   "cell_type": "code",
   "execution_count": null,
   "metadata": {},
   "outputs": [],
   "source": [
    "server = \"https://canvas.instructure.com/api/v1/courses\"\n",
    "headers = {\"Authorization\": \"Bearer \" + canvasKey}\n",
    "params = {\"textFormat\": \"HTML\",'per_page': 25}\n",
    "resp = requests.get(server,\n",
    "                    headers=headers\n",
    "                   )\n",
    "if resp.status_code==200 : print(\"Good GET\") \n",
    "print( type(resp.json() ) )\n",
    "print( type(resp.json()[0])  ) "
   ]
  },
  {
   "cell_type": "markdown",
   "metadata": {},
   "source": [
    "This returns a list of entries, where the first entry in that list is a dictionary. \n",
    "\n",
    "Let's look at the keys in that dictionary! But to do this let's define a function to do it for us, so we can use this function repeatedly."
   ]
  },
  {
   "cell_type": "code",
   "execution_count": null,
   "metadata": {},
   "outputs": [],
   "source": [
    "def keyPrintFunction(dictIn) : # Deine a function (everything within the function needs to be indented one level)\n",
    "    # take as input a dict\n",
    "    if type(dictIn) is dict: # this if line checks that it is a dict input\n",
    "        typeList=[] # initialize a list\n",
    "        for key in dictIn:\n",
    "            # for each entry in the dictIn variable find its type\n",
    "            typeList.append(type(dictIn[key]).__name__) \n",
    "            # The __name__ is just to make sure this variable is a string\n",
    "        # Now outside of the loop, make a dataframe out of the typeList, where we set the index to the keys \n",
    "        dfX = pd.DataFrame( data={'dataType': typeList}, index=list(  dictIn.keys()   )   )\n",
    "        return dfX # This tells the function to return the dataframe as the output\n",
    "    else : # All the above was in the if loop, this else line just outputs a message \n",
    "        print(\"Input not a dict type\")\n",
    "        \n",
    "# The function is ended whenever we're outside the first level of indentation\n",
    "# So anything you write down here won't be part of the function\n"
   ]
  },
  {
   "cell_type": "markdown",
   "metadata": {},
   "source": [
    "But when we run this, it gets captured by our Else..."
   ]
  },
  {
   "cell_type": "code",
   "execution_count": null,
   "metadata": {},
   "outputs": [],
   "source": [
    "keyPrintFunction(resp.json())"
   ]
  },
  {
   "cell_type": "markdown",
   "metadata": {},
   "source": [
    "Because the JSON data is instead:"
   ]
  },
  {
   "cell_type": "code",
   "execution_count": null,
   "metadata": {},
   "outputs": [],
   "source": [
    "type(resp.json())"
   ]
  },
  {
   "cell_type": "markdown",
   "metadata": {},
   "source": [
    "So let's apply out function to the first entry in our list:"
   ]
  },
  {
   "cell_type": "code",
   "execution_count": null,
   "metadata": {},
   "outputs": [],
   "source": [
    "keyPrintFunction(resp.json()[0])"
   ]
  },
  {
   "cell_type": "code",
   "execution_count": null,
   "metadata": {},
   "outputs": [],
   "source": [
    "# Let's convert the entire output into a data frame with pandas\n",
    "courseList=pd.DataFrame( resp.json() )\n",
    "# And now I'm asking it to display a subset of the columns in the list [ \"name\" , \"id\"]\n",
    "courseList[   [ \"name\"  , \"id\"]    ] "
   ]
  },
  {
   "cell_type": "markdown",
   "metadata": {},
   "source": [
    "So our course is not in that list (it's on the next page)"
   ]
  },
  {
   "cell_type": "code",
   "execution_count": null,
   "metadata": {},
   "outputs": [],
   "source": [
    "# get the course id in Canvas for our course\n",
    "mqe_course_id=139970000000187972"
   ]
  },
  {
   "cell_type": "markdown",
   "metadata": {},
   "source": [
    "From here I simple switch to a different part of the API, where I query the enrollments in this particular course id"
   ]
  },
  {
   "cell_type": "code",
   "execution_count": null,
   "metadata": {},
   "outputs": [],
   "source": [
    "server = \"https://canvas.instructure.com/api/v1/courses/\"\n",
    "headersIn = {\"Authorization\": \"Bearer \" +canvasKey}\n",
    "# The request string i've assembled come from looking at the API documentation at Canvas\n",
    "resp = requests.get(  server+\"/\"+str(mqe_course_id)+\"/enrollments\",\n",
    "                    headers=headersIn\n",
    "                   )\n",
    "# Return the output as a panas dataframe\n",
    "studentList = pd.DataFrame(resp.json())\n",
    "if resp.status_code==200 : print(\"Good GET\") "
   ]
  },
  {
   "cell_type": "code",
   "execution_count": null,
   "metadata": {},
   "outputs": [],
   "source": [
    "print(  type(resp.json())  )\n",
    "print(  type(resp.json()[0])  )"
   ]
  },
  {
   "cell_type": "markdown",
   "metadata": {},
   "source": [
    "So the `resp.json()[0]` variable is a dictionary, so we can apply the function we wrote above to it to get the variable types:"
   ]
  },
  {
   "cell_type": "code",
   "execution_count": null,
   "metadata": {},
   "outputs": [],
   "source": [
    "len(resp.json())"
   ]
  },
  {
   "cell_type": "code",
   "execution_count": null,
   "metadata": {},
   "outputs": [],
   "source": [
    "keyPrintFunction(resp.json()[0])"
   ]
  },
  {
   "cell_type": "markdown",
   "metadata": {},
   "source": [
    "Looking at the objects, there's actually another dictionary embedded within the `\"user\"` value of this dictionary, so we load that:"
   ]
  },
  {
   "cell_type": "code",
   "execution_count": null,
   "metadata": {},
   "outputs": [],
   "source": [
    "resp.json()[8]"
   ]
  },
  {
   "cell_type": "code",
   "execution_count": null,
   "metadata": {},
   "outputs": [],
   "source": [
    "keyPrintFunction(resp.json()[0][\"user\"])"
   ]
  },
  {
   "cell_type": "markdown",
   "metadata": {},
   "source": [
    "And now I just load that information!"
   ]
  },
  {
   "cell_type": "code",
   "execution_count": null,
   "metadata": {},
   "outputs": [],
   "source": [
    "# initialize the list\n",
    "studentList=[]\n",
    "# for each record in the enrollments json responds\n",
    "for record in resp.json():\n",
    "    # print the short_name field\n",
    "    print(record[\"user\"][\"short_name\"])\n",
    "    # append the short name to the studentList\n",
    "    studentList.append(record[\"user\"][\"short_name\"])"
   ]
  },
  {
   "cell_type": "code",
   "execution_count": null,
   "metadata": {},
   "outputs": [],
   "source": [
    "# import the random library\n",
    "import random \n",
    "# use it to print a random student name\n",
    "print(random.choice(studentList))"
   ]
  },
  {
   "cell_type": "code",
   "execution_count": null,
   "metadata": {},
   "outputs": [],
   "source": [
    "print(random.choice(studentList))"
   ]
  },
  {
   "cell_type": "markdown",
   "metadata": {},
   "source": [
    "## Prebuilt Libraries for using APIs\n",
    "---\n",
    "\n",
    "Often, if an API is popular, others have made libraries to engage with it and get data. Here I just searched for \"Canvas API Python\""
   ]
  },
  {
   "cell_type": "raw",
   "metadata": {},
   "source": [
    "# I already installed it, but Jupyter has several `magics` for doing other things\n",
    "## Here i'm installing the cavas API library to this Python Kernel\n",
    "%pip install canvasapi"
   ]
  },
  {
   "cell_type": "code",
   "execution_count": null,
   "metadata": {},
   "outputs": [],
   "source": [
    "# load in the library\n",
    "# Import the Canvas class\n",
    "from canvasapi import Canvas\n",
    "import random # I need this library to Randomize later\n",
    "\n",
    "canvasUrl='https://canvas.instructure.com'\n",
    "# Initialize a new Canvas object\n",
    "canvas = Canvas(canvasUrl, canvasKey)"
   ]
  },
  {
   "cell_type": "code",
   "execution_count": null,
   "metadata": {},
   "outputs": [],
   "source": [
    "type(canvas)"
   ]
  },
  {
   "cell_type": "code",
   "execution_count": null,
   "metadata": {},
   "outputs": [],
   "source": [
    "alistair=canvas.get_current_user()\n",
    "logins=alistair.get_user_logins()\n",
    "for login in logins:\n",
    "    print(login)"
   ]
  },
  {
   "cell_type": "code",
   "execution_count": null,
   "metadata": {},
   "outputs": [],
   "source": [
    "courseList=alistair.get_courses()\n",
    "pd.DataFrame([{'id': course.id,'created': course.created_at_date, 'name': course.name } for course in courseList if course.enrollments[0]['type']=='teacher'])"
   ]
  },
  {
   "cell_type": "code",
   "execution_count": null,
   "metadata": {},
   "outputs": [],
   "source": [
    "mqeCourse=canvas.get_course(139970000000187972)"
   ]
  },
  {
   "cell_type": "code",
   "execution_count": null,
   "metadata": {},
   "outputs": [],
   "source": [
    "studentUsers = mqeCourse.get_users(enrollment_type='student')"
   ]
  },
  {
   "cell_type": "markdown",
   "metadata": {},
   "source": [
    "Here I just make a list of the students, and grab their picture if one is set in Canvas:"
   ]
  },
  {
   "cell_type": "code",
   "execution_count": null,
   "metadata": {},
   "outputs": [],
   "source": [
    "studentListIn=[[student.short_name, student.get_profile()['avatar_url'], student.email] for student in studentUsers]\n",
    "studentList=[]\n",
    "for student in studentListIn:\n",
    "        if student[1]==\"https://canvas.instructure.com/images/messages/avatar-50.png\":\n",
    "            studentList.append([student[0],\"../../img/Avatar_\"+ student[2] +\".svg\",student[2]])\n",
    "        else:\n",
    "            studentList.append(student)"
   ]
  },
  {
   "cell_type": "raw",
   "metadata": {},
   "source": [
    "# I made the avatars using this additional library!\n",
    "import random\n",
    "import py_avataaars\n",
    "def r(enum_):\n",
    "    return random.choice(list(enum_))\n",
    "for student in studentList:\n",
    "    avatar = py_avataaars.PyAvataaar(\n",
    "            style=py_avataaars.AvatarStyle.CIRCLE,\n",
    "            # style=py_avataaars.AvatarStyle.TRANSPARENT,\n",
    "            skin_color=r(py_avataaars.SkinColor),\n",
    "            hair_color=r(py_avataaars.HairColor),\n",
    "            facial_hair_type=r(py_avataaars.FacialHairType),\n",
    "            #facial_hair_color=r(py_avataaars.FacialHairColor),\n",
    "            top_type=r(py_avataaars.TopType),\n",
    "            # hat_color=r(py_avataaars.ClotheColor),\n",
    "            mouth_type=r(py_avataaars.MouthType),\n",
    "            eye_type=r(py_avataaars.EyesType),\n",
    "            eyebrow_type=r(py_avataaars.EyebrowType),\n",
    "            nose_type=r(py_avataaars.NoseType),\n",
    "            accessories_type=r(py_avataaars.AccessoriesType),\n",
    "            clothe_type=r(py_avataaars.ClotheType),\n",
    "            #clothe_color=r(py_avataaars.ClotheColor),\n",
    "            clothe_graphic_type=r(py_avataaars.ClotheGraphicType),\n",
    "        )\n",
    "    avatar.render_svg_file('../../img/Avatar_'+student[2]+'.svg')"
   ]
  },
  {
   "cell_type": "markdown",
   "metadata": {},
   "source": [
    "Now I create a function to draw k random students from the list of students in the class, where I'm going to use Python to display this!"
   ]
  },
  {
   "cell_type": "code",
   "execution_count": null,
   "metadata": {},
   "outputs": [],
   "source": [
    "from IPython.display import display_markdown\n",
    "def random_student(k):\n",
    "    selStudents=random.sample(studentList,k)\n",
    "    strOut=\"| # | Student | Img | \\n | --- | --- | --- |\\n\"\n",
    "    i=1\n",
    "    for student in selStudents:\n",
    "        strOut=strOut+\"| \"+ str(i) + \"| **\" + student[0] + \"** | <img src=\"+student[1]+ \" width='128' height='100'>\\n\"\n",
    "        i=i+1\n",
    "    return display_markdown(strOut , raw=True)"
   ]
  },
  {
   "cell_type": "code",
   "execution_count": null,
   "metadata": {},
   "outputs": [],
   "source": [
    "random_student(2)"
   ]
  },
  {
   "cell_type": "markdown",
   "metadata": {},
   "source": [
    "___\n",
    "## US Census\n",
    "\n",
    "This one also requires an access token, but they'll email you one if you just ask for it!\n",
    "\n",
    "You can do that [US Census website](https://www.census.gov/data/developers/data-sets.html), as well as see the more extensive documentation of their API."
   ]
  },
  {
   "cell_type": "code",
   "execution_count": null,
   "metadata": {},
   "outputs": [],
   "source": [
    "f = open(\"../../census.txt\", \"r\")\n",
    "# Open the file, read the authorization key, strip the whitespace\n",
    "censusKey=f.read().rstrip()\n",
    "f.close()"
   ]
  },
  {
   "cell_type": "code",
   "execution_count": null,
   "metadata": {},
   "outputs": [],
   "source": [
    "server = \"https://api.census.gov/data/2014/pep/natstprc\"\n",
    "paramsIn = {\"get\": \"STNAME,POP\",\"for\" : \"state:*\", \"DATE_\" : 7, \"key\": censusKey}\n",
    "resp = requests.get(server,\n",
    "                    params=paramsIn\n",
    "                   )\n",
    "if resp.status_code==200 : print(\"Good GET\") \n",
    "print( type(resp.json() ) )\n",
    "print( type(resp.json()[0])  ) "
   ]
  },
  {
   "cell_type": "code",
   "execution_count": null,
   "metadata": {},
   "outputs": [],
   "source": [
    "headColumn=resp.json()[0] # the first entry here is the column heads\n",
    "dfState=pd.DataFrame(resp.json()[1:])\n",
    "dfState.columns=headColumn\n",
    "dfState"
   ]
  },
  {
   "cell_type": "code",
   "execution_count": null,
   "metadata": {},
   "outputs": [],
   "source": [
    "CensusStateDict=dfState[[\"state\",\"STNAME\"]].set_index(\"state\").to_dict()[\"STNAME\"]"
   ]
  },
  {
   "cell_type": "code",
   "execution_count": null,
   "metadata": {},
   "outputs": [],
   "source": [
    "CensusStateDict['05']"
   ]
  },
  {
   "cell_type": "markdown",
   "metadata": {},
   "source": [
    "### 2010 Census data"
   ]
  },
  {
   "cell_type": "code",
   "execution_count": null,
   "metadata": {},
   "outputs": [],
   "source": [
    "# Get the variables JSON file for the Decennial census from 2010\n",
    "vars=requests.get(\"https://api.census.gov/data/2010/dec/sf1/variables.json\")\n",
    "print(vars.json()['variables'][\"P012005\"])\n",
    "print(vars.json()['variables'][\"P012029\"])\n",
    "print(vars.json()['variables'][\"P012016\"])\n",
    "print(vars.json()['variables'][\"P012040\"])\n",
    "print(vars.json()['variables'][\"COUNTY\"])"
   ]
  },
  {
   "cell_type": "code",
   "execution_count": null,
   "metadata": {},
   "outputs": [],
   "source": [
    "server = \"https://api.census.gov/data/2010/dec/sf1\"\n",
    "paramsIn = {\"get\": \"P012005,P012029,P012016,P012040\",\"for\" : \"COUNTY:*\", \"key\": censusKey}\n",
    "resp = requests.get(server,\n",
    "                    params=paramsIn\n",
    "                   )\n",
    "if resp.status_code==200 : print(\"Good GET\") \n",
    "print( type(resp.json() ) )\n",
    "print( type(resp.json()[0])  ) "
   ]
  },
  {
   "cell_type": "code",
   "execution_count": null,
   "metadata": {},
   "outputs": [],
   "source": [
    "# the first entry here is the column heads but PCT012A017,PCT012A124 aren't informative\n",
    "df=pd.DataFrame(resp.json()[1:])\n",
    "df.columns=[\"male_10_to_14\", \"female_10_to_14\",\"male_50_to_54\", \"female_50_to_54\", \"state\",\"count\"]\n",
    "df"
   ]
  },
  {
   "cell_type": "code",
   "execution_count": null,
   "metadata": {},
   "outputs": [],
   "source": [
    "server = \"https://api.census.gov/data/2010/dec/sf1\"\n",
    "paramsIn = {\"get\": \"P012005,P012029,P012016,P012040\",\"for\" : \"STATE:*\", \"key\": censusKey}\n",
    "resp = requests.get(server,\n",
    "                    params=paramsIn\n",
    "                   )\n",
    "if resp.status_code==200 : print(\"Good GET\") \n",
    "print( type(resp.json() ) )\n",
    "print( type(resp.json()[0])  ) "
   ]
  },
  {
   "cell_type": "code",
   "execution_count": null,
   "metadata": {},
   "outputs": [],
   "source": [
    "df=pd.DataFrame(resp.json()[1:])\n",
    "df.columns=[\"male_10_to_14\",\"female_10_to_14\",\"male_50_to_54\", \"female_50_to_54\",\"state\"]\n",
    "df"
   ]
  },
  {
   "cell_type": "code",
   "execution_count": null,
   "metadata": {},
   "outputs": [],
   "source": [
    "# Add the state names using the dictionary we defined above and the map() method\n",
    "df[\"state_name\"]=df.state.map(CensusStateDict) "
   ]
  },
  {
   "cell_type": "code",
   "execution_count": null,
   "metadata": {},
   "outputs": [],
   "source": [
    "df"
   ]
  },
  {
   "cell_type": "code",
   "execution_count": null,
   "metadata": {},
   "outputs": [],
   "source": [
    "# Here I change the data from strings to integers for the numeric fields\n",
    "df=df.astype({'male_10_to_14': 'int32','female_10_to_14':'int32','male_50_to_54': 'int32','female_50_to_54':'int32'})"
   ]
  },
  {
   "cell_type": "code",
   "execution_count": null,
   "metadata": {},
   "outputs": [],
   "source": [
    "df[\"diff_young\"]=df.male_10_to_14-df.female_10_to_14\n",
    "df[\"diff_old\"]=df.male_50_to_54-df.female_50_to_54"
   ]
  },
  {
   "cell_type": "code",
   "execution_count": null,
   "metadata": {},
   "outputs": [],
   "source": [
    "# Overall rate Men at 10-14\n",
    "100*(df[\"male_10_to_14\"].sum() )/(df[\"male_10_to_14\"].sum()+df[\"female_10_to_14\"].sum() )"
   ]
  },
  {
   "cell_type": "code",
   "execution_count": null,
   "metadata": {},
   "outputs": [],
   "source": [
    "# Overall rate Men at 50-54\n",
    "100*(df[\"male_50_to_54\"].sum() )/(df[\"male_50_to_54\"].sum()+df[\"female_50_to_54\"].sum() )"
   ]
  },
  {
   "cell_type": "code",
   "execution_count": null,
   "metadata": {},
   "outputs": [],
   "source": [
    "df[\"sex_ratio_10_to_14\"]=100*df[\"male_10_to_14\"]/(df[\"male_10_to_14\"]+df[\"female_10_to_14\"] )\n",
    "df[\"sex_ratio_50_to_54\"]=100*df[\"male_50_to_54\"]/(df[\"male_50_to_54\"]+df[\"female_50_to_54\"] )\n",
    "df[\"drop\"]=df[\"sex_ratio_10_to_14\"]-df[\"sex_ratio_50_to_54\"]"
   ]
  },
  {
   "cell_type": "code",
   "execution_count": null,
   "metadata": {},
   "outputs": [],
   "source": [
    "df[ [\"state_name\", \"sex_ratio_10_to_14\" ,\"sex_ratio_50_to_54\", \"drop\"] ].sort_values(by=['drop'])"
   ]
  },
  {
   "cell_type": "markdown",
   "metadata": {},
   "source": [
    "### As a Package\n",
    "---\n",
    "Again, searching online, I quickly found a [python package](https://pypi.org/project/CensusData/) for engaging with this API, where they had several Jupyter notebooks in the `/docs`"
   ]
  },
  {
   "cell_type": "code",
   "execution_count": null,
   "metadata": {},
   "outputs": [],
   "source": [
    "%pip install censusdata"
   ]
  },
  {
   "cell_type": "code",
   "execution_count": null,
   "metadata": {},
   "outputs": [],
   "source": [
    "import censusdata"
   ]
  },
  {
   "cell_type": "code",
   "execution_count": null,
   "metadata": {},
   "outputs": [],
   "source": [
    "# Download ACS 2011-2015 5-year estimates for Pittsburgh city, Pennsylvania on population size, median age, and median household income.\n",
    "censusdata.download('acs5', 2015,censusdata.censusgeo([('state', '42'), ('place', '61000')]), ['B01001_001E', 'B01002_001E', 'B19013_001E'], key=censusKey)"
   ]
  },
  {
   "cell_type": "markdown",
   "metadata": {},
   "source": [
    "## Packages that interact with APIs\n",
    "Many large companies will offer some type of API (though it may not be open to everyone). Searching around for these types of resources can be very useful!"
   ]
  },
  {
   "cell_type": "raw",
   "metadata": {},
   "source": [
    "%pip install nba_api"
   ]
  },
  {
   "cell_type": "code",
   "execution_count": null,
   "metadata": {},
   "outputs": [],
   "source": [
    "from nba_api.stats.static import players\n",
    "from nba_api.stats.endpoints import playergamelog, playerprofilev2, commonplayerinfo\n",
    "from nba_api.stats.library.parameters import SeasonAll"
   ]
  },
  {
   "cell_type": "code",
   "execution_count": null,
   "metadata": {},
   "outputs": [],
   "source": [
    "player_list = players.get_active_players()"
   ]
  },
  {
   "cell_type": "code",
   "execution_count": null,
   "metadata": {},
   "outputs": [],
   "source": [
    "player_list[10]"
   ]
  },
  {
   "cell_type": "code",
   "execution_count": null,
   "metadata": {},
   "outputs": [],
   "source": [
    "bamAdebayo=players.find_players_by_full_name('Bam Adebayo')[0]\n",
    "bamAdebayo"
   ]
  },
  {
   "cell_type": "code",
   "execution_count": null,
   "metadata": {},
   "outputs": [],
   "source": [
    "bamAdebayo['id']"
   ]
  },
  {
   "cell_type": "code",
   "execution_count": null,
   "metadata": {},
   "outputs": [],
   "source": [
    "bamPlayerInfo=commonplayerinfo.CommonPlayerInfo(player_id=bamAdebayo['id']).get_normalized_dict()\n",
    "pd.DataFrame(bamPlayerInfo['CommonPlayerInfo'])"
   ]
  },
  {
   "cell_type": "code",
   "execution_count": null,
   "metadata": {},
   "outputs": [],
   "source": [
    "bamData=playergamelog.PlayerGameLog(player_id=bamAdebayo['id'],season=SeasonAll.all).get_data_frames()[0]\n",
    "bamData"
   ]
  },
  {
   "cell_type": "markdown",
   "metadata": {},
   "source": [
    "And so now I can calculate his career average stats:"
   ]
  },
  {
   "cell_type": "code",
   "execution_count": null,
   "metadata": {},
   "outputs": [],
   "source": [
    "bamData[[\"PTS\",\"REB\",\"AST\"]].mean()"
   ]
  },
  {
   "cell_type": "markdown",
   "metadata": {
    "tags": []
   },
   "source": [
    "___\n",
    "## Open AI API"
   ]
  },
  {
   "cell_type": "code",
   "execution_count": null,
   "metadata": {
    "tags": []
   },
   "outputs": [],
   "source": [
    "import sys\n",
    "sys.path.append('/home/alistair/.keys')\n",
    "import alistair_keys\n",
    "import os"
   ]
  },
  {
   "cell_type": "code",
   "execution_count": null,
   "metadata": {
    "tags": []
   },
   "outputs": [],
   "source": [
    "from openai import OpenAI\n",
    "client =OpenAI(api_key=alistair_keys.open_ai['key'])\n",
    "response = client.chat.completions.create(\n",
    "  model=\"gpt-3.5-turbo\",\n",
    "  messages=[\n",
    "    {\n",
    "      \"role\": \"user\",\n",
    "      \"content\": \"Write a Python function that takes as input a file path to an image, loads the image into memory as a numpy array, then crops the rows and columns around the perimeter if they are darker than a threshold value. Use the mean value of rows and columns to decide if they should be marked for deletion.\"\n",
    "    }\n",
    "  ],\n",
    "  temperature=0.7,\n",
    "  max_tokens=64,\n",
    "  top_p=1\n",
    ")"
   ]
  },
  {
   "cell_type": "code",
   "execution_count": null,
   "metadata": {},
   "outputs": [],
   "source": [
    "response"
   ]
  }
 ],
 "metadata": {
  "kernelspec": {
   "display_name": "Python (OpenAI)",
   "language": "python",
   "name": "pyopenai"
  },
  "language_info": {
   "codemirror_mode": {
    "name": "ipython",
    "version": 3
   },
   "file_extension": ".py",
   "mimetype": "text/x-python",
   "name": "python",
   "nbconvert_exporter": "python",
   "pygments_lexer": "ipython3",
   "version": "3.10.12"
  }
 },
 "nbformat": 4,
 "nbformat_minor": 4
}
